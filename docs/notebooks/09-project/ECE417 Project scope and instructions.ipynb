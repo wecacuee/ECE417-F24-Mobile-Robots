{
 "cells": [
  {
   "cell_type": "markdown",
   "id": "b74a356e",
   "metadata": {},
   "source": [
    "### Project scope and instructions\n",
    "\n",
    "#### Project teams\n",
    "\n",
    "ECE417 students can do projects in groups of two or three. ECE598 students can do projects in groups of one or two. ECE417 and ECE598 students can pair up with each other as well, but not more than a group of two."
   ]
  },
  {
   "cell_type": "markdown",
   "id": "19bf75a4",
   "metadata": {},
   "source": [
    "#### Project scope\n",
    "\n",
    "The aim of the project is to demonstrate your knowledge of some of the concepts you learned in the class by applying it on a real robot, for example, jetbot. If you have access to other robots, or want to borrow one of the robots from my lab for the project, you are welcome to. The main concepts that we covered in the class, so far, are:\n",
    "\n",
    "1. Planning by Dijkstra, A-star, RRT etc.\n",
    "2. ROS based programming\n",
    "3. Rotations, translations and transformations.\n",
    "4. Forward kinematics and inverse kinematics.\n",
    "\n",
    "The concepts we still plan to cover are:\n",
    "\n",
    "1. Controllers by PID, LQR etc.\n",
    "2. Filtering by KF, EKF etc.\n",
    "\n",
    "I encourage PhD students to propose their existing research projects with addition of ROS to the project. All students are allowed to pick up your own projects. If you are looking for some ideas, here are some ideas:\n",
    "\n",
    "a. Implement pick and place on a robotic simulator like PyBullet that can avoid obstacles. You must integrate your own inverse kinematics or planning or ROS bindings to demonstrate concepts from this class.\n",
    "\n",
    "b. Use road following code from the [jetbot notebooks](https://github.com/NVIDIA-AI-IOT/jetbot/tree/master/notebooks/road_following) and convert it to ROS based road following. Convert it to a ROS node."
   ]
  },
  {
   "cell_type": "markdown",
   "id": "be616a7f",
   "metadata": {},
   "source": [
    "#### ECE598 only: Paper summary and presentation.\n",
    "\n",
    "Read, summarize and present a milestone paper from the following options\n",
    "\n",
    "1. Lavalle's RRT papers https://lavalle.pl/rrtpubs.html\n",
    "\n",
    "2. Papers that cite the original RRT paper: https://scholar.google.com/scholar?hl=en&as_sdt=10000005&sciodt=0,20&cites=11768189363361934997&scipsc=\n",
    "\n",
    "3. Find a paper that you enjoyed and present that.\n",
    "\n",
    "The paper presentation will have the following submissions\n",
    "\n",
    "1. Pick a paper to summarize and present.\n",
    "2. Summarize the main technical ideas from the paper in a 2-page summary. The essay type writeup should contain the following paragraphs.\n",
    "   \n",
    "   a. Problem: What problem is the paper trying to solve?\n",
    "   \n",
    "   b. Contributions: What literature existed before this paper? How was the literature limited so that this paper was needed? What are the novel contributions of this paper that address the limitations of previous papers? What does the paper claim to be their contributions?\n",
    "   \n",
    "   c. Approach: What is the main idea and methodology of this paper?\n",
    "   \n",
    "   d. Experiments: What experiments were done or proofs were provided to show the effectiveness of the novel contributions claimed in ?\n",
    "   \n",
    "   e. Results: Does the paper's experiments/proofs (2.d) convince you that the novel contributions (2.b) are an improvement over existing literature.\n",
    "   \n",
    "4. Record a 15 min video summarizing the main technical ideas of the paper."
   ]
  },
  {
   "cell_type": "markdown",
   "id": "2f8c2c9e",
   "metadata": {},
   "source": [
    "#### Use of internet sources and AI\n",
    "\n",
    "Use of open source repositories on the internet is allowed as long as you differentiate what you did from that repository. How did it help you with the project and not helped with the project?"
   ]
  },
  {
   "cell_type": "markdown",
   "id": "f61cf41b",
   "metadata": {},
   "source": [
    "#### Submissions\n",
    "\n",
    "For ECE417, there will be three submissions while ECE598 students will have to make four submissions."
   ]
  },
  {
   "cell_type": "markdown",
   "id": "631bf24b",
   "metadata": {},
   "source": [
    "##### Project proposal (20% of final project grade)\n",
    "\n",
    "The project proposal will answer the following questions\n",
    "\n",
    "1. Who is in your team?\n",
    "\n",
    "1. What project problem have you chosen and why?\n",
    "\n",
    "2. Why is this problem important?\n",
    "\n",
    "3. Related work: What material (papers, learning material, and open source code) exists on the internet related to this project. How do you plan to use (or not use) this material for your project.\n",
    "\n",
    "8. What is the simplest possible (maybe bad) solution to the problem?\n",
    "\n",
    "9. Project plan: What do you plan to accomplish by second report and final project report? How are planning to divide work between you and your teammate? What are your safe, moderate and ambitious goals for each of the report? What is the fall-back plan, in case you do not accomplish your safe or moderate goals.\n",
    "\n",
    "10. What measurable and quantifiable goals do you plan to accomplish by second and final project report. Examples of measurable and quantifiable goals, include implementing functions with test cases. "
   ]
  },
  {
   "cell_type": "markdown",
   "id": "3a193663-4aa4-40eb-840d-959a87348596",
   "metadata": {},
   "source": [
    "| Requirement       |                                                                                                                            | Points |\n",
    "|-------------------|----------------------------------------------------------------------------------------------------------------------------|--------|\n",
    "| Project proposal  | Difficulty level of the problem                                                                                            | 15     |\n",
    "|                   | Reasoning for choosing a particular approach                                                                               | 15     |\n",
    "| Report            | Organization and logic: abstract, introduction, related work, design, evaluation and discussion, conclusion, and reference | 10     |\n",
    "|                   | Clarity and critical thinking                                                                                              | 10     |\n",
    "| Code              | Organization, modularity, simplicity and testability of the code.                                                          | 10     |\n",
    "|                   | Progress made on the project goals.                                                                                        | 25     |\n",
    "| Project interview | Understanding of the code employed and used. Responds to questions in a precise to the point manner.       | 15     |\n",
    "| Total             |                                                                                                                            | 100    |"
   ]
  },
  {
   "cell_type": "markdown",
   "id": "c9455e1b",
   "metadata": {},
   "source": [
    "##### Second project report (20% of the final project grades)\n",
    "\n",
    "1. How many of your measurable and quantifiable goals have you met as described in your project proposal? \n",
    "\n",
    "2. Submit your code (as a zip file, google drive link, or github repository) and proofs (videos, screenshots, testing procedure), showing that you have met those goals.\n",
    "\n",
    "3. Revise your project plan and resubmit.\n",
    "\n",
    "4. Keep an individual time log of what you tried, how many hours did it take, what succeeeded and what failed. \n",
    "\n",
    "5. Schedule a 15-minute slot with the professor to answer questions about your code. The appointment slots will be provided."
   ]
  },
  {
   "cell_type": "markdown",
   "id": "53a6d860",
   "metadata": {},
   "source": [
    "#### ECE598 only: Paper review and presentation (15% of the course grade)\n",
    "\n",
    "1. Submit a two-page review and technical summary of the paper.\n",
    "2. Submit a 15-min video presentation."
   ]
  },
  {
   "cell_type": "markdown",
   "id": "eef9a80a",
   "metadata": {},
   "source": [
    "##### Final project report (60% of the final project grade)\n",
    "\n",
    "\n",
    "1. Revise your project proposal and resubmit to describe what you did instead of what you plan to do. \n",
    "\n",
    "2. How many of your measurable and quantifiable goals have you met as described in your project proposal? \n",
    "\n",
    "3. Submit your code (as a zip file, google drive link, or github repository) and proofs (videos, screenshots, testing procedure), showing that you have met those goals.\n",
    "\n",
    "4. Make a short 2-5 min video presentation of your project for someone who has not taken a neural networks course and describing what you have accomplished.\n",
    "\n",
    "5. The question-answer session about your code will jeavily influence your final project grades."
   ]
  }
 ],
 "metadata": {
  "kernelspec": {
   "display_name": "Python 3 (ipykernel)",
   "language": "python",
   "name": "python3"
  },
  "language_info": {
   "codemirror_mode": {
    "name": "ipython",
    "version": 3
   },
   "file_extension": ".py",
   "mimetype": "text/x-python",
   "name": "python",
   "nbconvert_exporter": "python",
   "pygments_lexer": "ipython3",
   "version": "3.10.12"
  }
 },
 "nbformat": 4,
 "nbformat_minor": 5
}
