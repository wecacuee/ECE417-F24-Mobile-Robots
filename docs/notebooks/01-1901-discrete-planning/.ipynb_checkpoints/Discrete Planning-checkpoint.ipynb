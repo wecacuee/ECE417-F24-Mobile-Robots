{
 "cells": [
  {
   "cell_type": "markdown",
   "id": "2541b5d3",
   "metadata": {
    "slideshow": {
     "slide_type": "slide"
    }
   },
   "source": [
    "# Planning (Chapter 2 from Lavalle book)"
   ]
  },
  {
   "cell_type": "markdown",
   "id": "cec19777",
   "metadata": {
    "slideshow": {
     "slide_type": "skip"
    }
   },
   "source": [
    "\n",
    "$ % Calligraphic fonts\n",
    "\\newcommand{\\calA}{{\\cal A}}\n",
    "\\newcommand{\\calB}{{\\cal B}}\n",
    "\\newcommand{\\calC}{{\\cal C}}\n",
    "\\newcommand{\\calD}{{\\cal D}}\n",
    "\\newcommand{\\calE}{{\\cal E}}\n",
    "\\newcommand{\\calF}{{\\cal F}}\n",
    "\\newcommand{\\calG}{{\\cal G}}\n",
    "\\newcommand{\\calH}{{\\cal H}}\n",
    "\\newcommand{\\calI}{{\\cal I}}\n",
    "\\newcommand{\\calJ}{{\\cal J}}\n",
    "\\newcommand{\\calK}{{\\cal K}}\n",
    "\\newcommand{\\calL}{{\\cal L}}\n",
    "\\newcommand{\\calM}{{\\cal M}}\n",
    "\\newcommand{\\calN}{{\\cal N}}\n",
    "\\newcommand{\\calO}{{\\cal O}}\n",
    "\\newcommand{\\calP}{{\\cal P}}\n",
    "\\newcommand{\\calQ}{{\\cal Q}}\n",
    "\\newcommand{\\calR}{{\\cal R}}\n",
    "\\newcommand{\\calS}{{\\cal S}}\n",
    "\\newcommand{\\calT}{{\\cal T}}\n",
    "\\newcommand{\\calU}{{\\cal U}}\n",
    "\\newcommand{\\calV}{{\\cal V}}\n",
    "\\newcommand{\\calW}{{\\cal W}}\n",
    "\\newcommand{\\calX}{{\\cal X}}\n",
    "\\newcommand{\\calY}{{\\cal Y}}\n",
    "\\newcommand{\\calZ}{{\\cal Z}}\n",
    "$\n",
    "\n",
    "$% Sets:\n",
    "\\newcommand{\\setA}{\\textsf{A}}\n",
    "\\newcommand{\\setB}{\\textsf{B}}\n",
    "\\newcommand{\\setC}{\\textsf{C}}\n",
    "\\newcommand{\\setD}{\\textsf{D}}\n",
    "\\newcommand{\\setE}{\\textsf{E}}\n",
    "\\newcommand{\\setF}{\\textsf{F}}\n",
    "\\newcommand{\\setG}{\\textsf{G}}\n",
    "\\newcommand{\\setH}{\\textsf{H}}\n",
    "\\newcommand{\\setI}{\\textsf{I}}\n",
    "\\newcommand{\\setJ}{\\textsf{J}}\n",
    "\\newcommand{\\setK}{\\textsf{K}}\n",
    "\\newcommand{\\setL}{\\textsf{L}}\n",
    "\\newcommand{\\setM}{\\textsf{M}}\n",
    "\\newcommand{\\setN}{\\textsf{N}}\n",
    "\\newcommand{\\setO}{\\textsf{O}}\n",
    "\\newcommand{\\setP}{\\textsf{P}}\n",
    "\\newcommand{\\setQ}{\\textsf{Q}}\n",
    "\\newcommand{\\setR}{\\textsf{R}}\n",
    "\\newcommand{\\setS}{\\textsf{S}}\n",
    "\\newcommand{\\setT}{\\textsf{T}}\n",
    "\\newcommand{\\setU}{\\textsf{U}}\n",
    "\\newcommand{\\setV}{\\textsf{V}}\n",
    "\\newcommand{\\setW}{\\textsf{W}}\n",
    "\\newcommand{\\setX}{\\textsf{X}}\n",
    "\\newcommand{\\setY}{\\textsf{Y}}\n",
    "\\newcommand{\\setZ}{\\textsf{Z}}\n",
    "$\n",
    "$% Vectors\n",
    "\\newcommand{\\bfa}{\\mathbf{a}}\n",
    "\\newcommand{\\bfb}{\\mathbf{b}}\n",
    "\\newcommand{\\bfc}{\\mathbf{c}}\n",
    "\\newcommand{\\bfd}{\\mathbf{d}}\n",
    "\\newcommand{\\bfe}{\\mathbf{e}}\n",
    "\\newcommand{\\bff}{\\mathbf{f}}\n",
    "\\newcommand{\\bfg}{\\mathbf{g}}\n",
    "\\newcommand{\\bfh}{\\mathbf{h}}\n",
    "\\newcommand{\\bfi}{\\mathbf{i}}\n",
    "\\newcommand{\\bfj}{\\mathbf{j}}\n",
    "\\newcommand{\\bfk}{\\mathbf{k}}\n",
    "\\newcommand{\\bfl}{\\mathbf{l}}\n",
    "\\newcommand{\\bfm}{\\mathbf{m}}\n",
    "\\newcommand{\\bfn}{\\mathbf{n}}\n",
    "\\newcommand{\\bfo}{\\mathbf{o}}\n",
    "\\newcommand{\\bfp}{\\mathbf{p}}\n",
    "\\newcommand{\\bfq}{\\mathbf{q}}\n",
    "\\newcommand{\\bfr}{\\mathbf{r}}\n",
    "\\newcommand{\\bfs}{\\mathbf{s}}\n",
    "\\newcommand{\\bft}{\\mathbf{t}}\n",
    "\\newcommand{\\bfu}{\\mathbf{u}}\n",
    "\\newcommand{\\bfv}{\\mathbf{v}}\n",
    "\\newcommand{\\bfw}{\\mathbf{w}}\n",
    "\\newcommand{\\bfx}{\\mathbf{x}}\n",
    "\\newcommand{\\bfy}{\\mathbf{y}}\n",
    "\\newcommand{\\bfz}{\\mathbf{z}}\n",
    "$\n",
    "\n",
    "$\\newcommand{\\bfalpha}{\\boldsymbol{\\alpha}}\n",
    "\\newcommand{\\bfbeta}{\\boldsymbol{\\beta}}\n",
    "\\newcommand{\\bfgamma}{\\boldsymbol{\\gamma}}\n",
    "\\newcommand{\\bfdelta}{\\boldsymbol{\\delta}}\n",
    "\\newcommand{\\bfepsilon}{\\boldsymbol{\\epsilon}}\n",
    "\\newcommand{\\bfzeta}{\\boldsymbol{\\zeta}}\n",
    "\\newcommand{\\bfeta}{\\boldsymbol{\\eta}}\n",
    "\\newcommand{\\bftheta}{\\boldsymbol{\\theta}}\n",
    "\\newcommand{\\bfiota}{\\boldsymbol{\\iota}}\n",
    "\\newcommand{\\bfkappa}{\\boldsymbol{\\kappa}}\n",
    "\\newcommand{\\bflambda}{\\boldsymbol{\\lambda}}\n",
    "\\newcommand{\\bfmu}{\\boldsymbol{\\mu}}\n",
    "\\newcommand{\\bfnu}{\\boldsymbol{\\nu}}\n",
    "\\newcommand{\\bfomicron}{\\boldsymbol{\\omicron}}\n",
    "\\newcommand{\\bfpi}{\\boldsymbol{\\pi}}\n",
    "\\newcommand{\\bfrho}{\\boldsymbol{\\rho}}\n",
    "\\newcommand{\\bfsigma}{\\boldsymbol{\\sigma}}\n",
    "\\newcommand{\\bftau}{\\boldsymbol{\\tau}}\n",
    "\\newcommand{\\bfupsilon}{\\boldsymbol{\\upsilon}}\n",
    "\\newcommand{\\bfphi}{\\boldsymbol{\\phi}}\n",
    "\\newcommand{\\bfchi}{\\boldsymbol{\\chi}}\n",
    "\\newcommand{\\bfpsi}{\\boldsymbol{\\psi}}\n",
    "\\newcommand{\\bfomega}{\\boldsymbol{\\omega}}\n",
    "\\newcommand{\\bfxi}{\\boldsymbol{\\xi}}\n",
    "\\newcommand{\\bfell}{\\boldsymbol{\\ell}}\n",
    "$\n",
    "\n",
    "$% Matrices\n",
    "\\newcommand{\\bfA}{\\mathbf{A}}\n",
    "\\newcommand{\\bfB}{\\mathbf{B}}\n",
    "\\newcommand{\\bfC}{\\mathbf{C}}\n",
    "\\newcommand{\\bfD}{\\mathbf{D}}\n",
    "\\newcommand{\\bfE}{\\mathbf{E}}\n",
    "\\newcommand{\\bfF}{\\mathbf{F}}\n",
    "\\newcommand{\\bfG}{\\mathbf{G}}\n",
    "\\newcommand{\\bfH}{\\mathbf{H}}\n",
    "\\newcommand{\\bfI}{\\mathbf{I}}\n",
    "\\newcommand{\\bfJ}{\\mathbf{J}}\n",
    "\\newcommand{\\bfK}{\\mathbf{K}}\n",
    "\\newcommand{\\bfL}{\\mathbf{L}}\n",
    "\\newcommand{\\bfM}{\\mathbf{M}}\n",
    "\\newcommand{\\bfN}{\\mathbf{N}}\n",
    "\\newcommand{\\bfO}{\\mathbf{O}}\n",
    "\\newcommand{\\bfP}{\\mathbf{P}}\n",
    "\\newcommand{\\bfQ}{\\mathbf{Q}}\n",
    "\\newcommand{\\bfR}{\\mathbf{R}}\n",
    "\\newcommand{\\bfS}{\\mathbf{S}}\n",
    "\\newcommand{\\bfT}{\\mathbf{T}}\n",
    "\\newcommand{\\bfU}{\\mathbf{U}}\n",
    "\\newcommand{\\bfV}{\\mathbf{V}}\n",
    "\\newcommand{\\bfW}{\\mathbf{W}}\n",
    "\\newcommand{\\bfX}{\\mathbf{X}}\n",
    "\\newcommand{\\bfY}{\\mathbf{Y}}\n",
    "\\newcommand{\\bfZ}{\\mathbf{Z}}\n",
    "$\n",
    "\n",
    "$\\newcommand{\\bfGamma}{\\boldsymbol{\\Gamma}}\n",
    "\\newcommand{\\bfDelta}{\\boldsymbol{\\Delta}}\n",
    "\\newcommand{\\bfTheta}{\\boldsymbol{\\Theta}}\n",
    "\\newcommand{\\bfLambda}{\\boldsymbol{\\Lambda}}\n",
    "\\newcommand{\\bfPi}{\\boldsymbol{\\Pi}}\n",
    "\\newcommand{\\bfSigma}{\\boldsymbol{\\Sigma}}\n",
    "\\newcommand{\\bfUpsilon}{\\boldsymbol{\\Upsilon}}\n",
    "\\newcommand{\\bfPhi}{\\boldsymbol{\\Phi}}\n",
    "\\newcommand{\\bfPsi}{\\boldsymbol{\\Psi}}\n",
    "\\newcommand{\\bfOmega}{\\boldsymbol{\\Omega}}\n",
    "$\n",
    "\n",
    "$\n",
    "% Blackboard Bold:\n",
    "\\newcommand{\\bbA}{\\mathbb{A}}\n",
    "\\newcommand{\\bbB}{\\mathbb{B}}\n",
    "\\newcommand{\\bbC}{\\mathbb{C}}\n",
    "\\newcommand{\\bbD}{\\mathbb{D}}\n",
    "\\newcommand{\\bbE}{\\mathbb{E}}\n",
    "\\newcommand{\\bbF}{\\mathbb{F}}\n",
    "\\newcommand{\\bbG}{\\mathbb{G}}\n",
    "\\newcommand{\\bbH}{\\mathbb{H}}\n",
    "\\newcommand{\\bbI}{\\mathbb{I}}\n",
    "\\newcommand{\\bbJ}{\\mathbb{J}}\n",
    "\\newcommand{\\bbK}{\\mathbb{K}}\n",
    "\\newcommand{\\bbL}{\\mathbb{L}}\n",
    "\\newcommand{\\bbM}{\\mathbb{M}}\n",
    "\\newcommand{\\bbN}{\\mathbb{N}}\n",
    "\\newcommand{\\bbO}{\\mathbb{O}}\n",
    "\\newcommand{\\bbP}{\\mathbb{P}}\n",
    "\\newcommand{\\bbQ}{\\mathbb{Q}}\n",
    "\\newcommand{\\bbR}{\\mathbb{R}}\n",
    "\\newcommand{\\bbS}{\\mathbb{S}}\n",
    "\\newcommand{\\bbT}{\\mathbb{T}}\n",
    "\\newcommand{\\bbU}{\\mathbb{U}}\n",
    "\\newcommand{\\bbV}{\\mathbb{V}}\n",
    "\\newcommand{\\bbW}{\\mathbb{W}}\n",
    "\\newcommand{\\bbX}{\\mathbb{X}}\n",
    "\\newcommand{\\bbY}{\\mathbb{Y}}\n",
    "\\newcommand{\\bbZ}{\\mathbb{Z}}\n",
    "$"
   ]
  },
  {
   "cell_type": "markdown",
   "id": "16f519ec",
   "metadata": {
    "slideshow": {
     "slide_type": "slide"
    }
   },
   "source": [
    "![](./imgs/maze.png)"
   ]
  },
  {
   "cell_type": "markdown",
   "id": "83961d51",
   "metadata": {
    "slideshow": {
     "slide_type": "slide"
    }
   },
   "source": [
    "### Abstraction of a planning problem\n",
    "\n",
    "\n",
    "1. State space $\\bfs \\in \\calS$. For example, 2D coordinate of a grid $\\bfs = (x, y)$.\n",
    "2. Action space per state $\\bfu \\in \\calU(\\bfs)$. For example, up, down, left right movement can be encoded as $\\calU(\\bfs_t) = \\{ (0, -1), (0, 1), (1, 0), (-1, 0) \\}$.\n",
    "3. State transition function $\\bfs_{t+1} = f(\\bfs_t, \\bfu_t)$. For example, the up-down-left-right action can be combined as addition to get the next state $\\bfs_{t+1} = \\bfs_t + \\bfu_t$.\n",
    "4. Initial State $\\bfs_I \\in \\calS$\n",
    "5. Goal states $\\bfs_G \\subseteq \\calS$"
   ]
  },
  {
   "cell_type": "markdown",
   "id": "4e14d0e1",
   "metadata": {
    "slideshow": {
     "slide_type": "slide"
    }
   },
   "source": [
    "### A Graph\n",
    "\n",
    "A graph $\\calG = \\{ \\calV, \\calE \\}$ is defined by a set of vertices $\\calV$ and a set of edges $\\calE$ such that each edge $e \\in \\calE$ is formed by a pair of start and end vertices $e = (v_s, v_e), v_s \\in \\calV, v_e \\in \\calV$. The first vertex is called the start of the edge $v_s = \\text{start}(e)$ and second vertex is called the end $v_e = \\text{end}(e)$."
   ]
  },
  {
   "cell_type": "markdown",
   "id": "3895e717",
   "metadata": {
    "slideshow": {
     "slide_type": "slide"
    }
   },
   "source": [
    "A discrete planning problem can be converted into a graph by definiting \n",
    "1. Vertices as the state space $\\calV = \\calS$.\n",
    "2. The action space at each state as the edges connected to that vertex/state, $\\calU(\\bfs_t) = \\{ (\\bfs_t, \\bfs_j) \\mid (\\bfs_t, \\bfs_j) \\in \\calE \\}$.\n",
    "3. State transition function is the other end of th edge, \n",
    "$\\bfs_{t+1} = f(\\bfs_t, \\bfu_t) = \\text{end}(\\bfu_t)$,  where $\\bfs_t = \\text{start}(\\bfu_t)$."
   ]
  },
  {
   "cell_type": "markdown",
   "id": "666ceb53",
   "metadata": {
    "slideshow": {
     "slide_type": "slide"
    }
   },
   "source": [
    "### Representations of Graphs\n",
    "(Chapter 23 of Introduction to Algorithms by Carmen et al)\n",
    "\n",
    "##### Undirected graph\n",
    "![](./imgs/undirected-graph-rep.png)"
   ]
  },
  {
   "cell_type": "code",
   "execution_count": 13,
   "id": "cc0e905c",
   "metadata": {
    "slideshow": {
     "slide_type": "slide"
    }
   },
   "outputs": [],
   "source": [
    "# Programmatically you can represent a adjacency list as python lists \n",
    "# Python lists are not linked lists, they are arrays under the hood.\n",
    "G_adjacency_list = {\n",
    "    1 : [2, 5],\n",
    "    2 : [1, 5, 3, 4],\n",
    "    3 : [2, 4],\n",
    "    4 : [2, 5, 3],\n",
    "    5 : [4, 1, 2]\n",
    "}\n",
    "\n",
    "# Prefer to represent a matrix in python either as a list of lists or a numpy array\n",
    "import numpy as npb\n",
    "G_adjacency_matrix = np.array([\n",
    "    [0, 1, 0, 0, 1],\n",
    "    [1, 0, 1, 1, 1],\n",
    "    [0, 1, 0, 1, 0],\n",
    "    [0, 1, 1, 0, 1],\n",
    "    [1, 1, 0, 1, 0]\n",
    "])\n",
    "\n",
    "# Edge list is another possible representation\n",
    "G_edge_list = [\n",
    "    (1, 2), (1, 5),\n",
    "    (2, 1), (2, 5), (2, 3), (2, 4),\n",
    "    (3, 2), (3, 4),\n",
    "    (4, 2), (4, 5), (4, 3),\n",
    "    (5, 4), (5, 1), (5, 2)\n",
    "]"
   ]
  },
  {
   "cell_type": "markdown",
   "id": "8cf2ada9",
   "metadata": {},
   "source": [
    "##### Directed graph representation\n",
    "\n",
    "![](./imgs/directed-graph-rep.png)"
   ]
  },
  {
   "cell_type": "code",
   "execution_count": 20,
   "id": "4b88c485",
   "metadata": {},
   "outputs": [],
   "source": [
    "# Programmatically you can represent a adjacency list as python lists \n",
    "# Python lists are not linked lists, they are arrays under the hood.\n",
    "G_adjacency_list = {\n",
    "    1 : [2, 4],\n",
    "    2 : [5],\n",
    "    3 : [6, 5],\n",
    "    4 : [2],\n",
    "    5 : [4],\n",
    "    5 : [6]\n",
    "}\n",
    "\n",
    "# Prefer to represent a matrix in python either as a list of lists or a numpy array\n",
    "import numpy as npb\n",
    "G_adjacency_matrix = np.array([\n",
    "    [0, 1, 0, 1, 0, 0],\n",
    "    [0, 0, 0, 0, 1, 0],\n",
    "    [0, 0, 0, 0, 1, 1],\n",
    "    [0, 1, 0, 0, 0, 0],\n",
    "    [0, 0, 0, 1, 0, 0],\n",
    "    [0, 0, 0, 0, 0, 1]\n",
    "])\n",
    "\n",
    "# Edge list is another possible representation\n",
    "G_edge_list = [\n",
    "    (1, 2), (1, 4),\n",
    "    (2, 5),\n",
    "    (3, 6), (3, 5),\n",
    "    (4, 2),\n",
    "    (5, 6)\n",
    "]"
   ]
  },
  {
   "cell_type": "code",
   "execution_count": 23,
   "id": "df96217c",
   "metadata": {},
   "outputs": [
    {
     "name": "stdout",
     "output_type": "stream",
     "text": [
      "None\n",
      "None\n"
     ]
    }
   ],
   "source": [
    "# Exercise 1\n",
    "\n",
    "# Write a function that converts a graph in adjacency list format to adjacency matrix and vice versa\n",
    "def adjacency_list_to_matrix(G_adj_list):\n",
    "    G_adj_mat = None # TODO: Write code to convert to adj_mat\n",
    "    return G_adj_mat\n",
    "\n",
    "def adjacency_matrix_to_list(G_adj_mat):\n",
    "    G_adj_list = None # TODO: Write code to convert to adj_mat\n",
    "    return G_adj_list\n",
    "\n",
    "# Use the above graphs to test\n",
    "print(adjacency_list_to_matrix(G_adjacency_list))\n",
    "print(adjacency_matrix_to_list(G_adjacency_matrix))"
   ]
  },
  {
   "cell_type": "markdown",
   "id": "5e24ab1b",
   "metadata": {
    "slideshow": {
     "slide_type": "slide"
    },
    "tags": []
   },
   "source": [
    "### Graph Search algorithms\n",
    "1. Breadth First Search\n",
    "![bfs.png](./imgs/Animated_BFS.gif)\n",
    "\n",
    "2. Depth First Search\n",
    "\n",
    "![dfs.png](./imgs/Depth-First-Search.gif)"
   ]
  },
  {
   "cell_type": "markdown",
   "id": "1f01c735",
   "metadata": {
    "slideshow": {
     "slide_type": "slide"
    }
   },
   "source": [
    "##### Breadth first search (BFS)\n",
    "\n",
    "![bfs-states](./imgs/bfs-step-by-step.png)"
   ]
  },
  {
   "cell_type": "code",
   "execution_count": 1,
   "id": "6c6916c8",
   "metadata": {
    "slideshow": {
     "slide_type": "slide"
    }
   },
   "outputs": [],
   "source": [
    "from queue import Queue, LifoQueue, PriorityQueue\n",
    "\n",
    "graph = {\n",
    "  's' : ['r', 'w'],\n",
    "  'r' : ['v'],\n",
    "  'w' : ['t', 'x'],\n",
    "  'x' : ['y' ],\n",
    "  't' : ['u'],\n",
    "  'u' : ['y']\n",
    "}\n",
    "\n",
    "def bfs(graph, start):\n",
    "    seen = [] # List for seen nodes (contains both frontier and dead states)\n",
    "    # Frontier is the boundary between seen and unseen (Also called the alive states)\n",
    "    frontier = Queue() # Frontier of unvisited nodes as FIFO\n",
    "    search_order = []\n",
    "    seen.append(start)\n",
    "    frontier.put(start)\n",
    "\n",
    "    while not frontier.empty():          # Creating loop to visit each node\n",
    "        m = frontier.get() # Get the oldest addition to frontier\n",
    "        search_order.append(m)\n",
    "\n",
    "        for neighbor in graph.get(m, []):\n",
    "            if neighbor not in seen:\n",
    "                seen.append(neighbor)\n",
    "                frontier.put(neighbor)\n",
    "    return search_order"
   ]
  },
  {
   "cell_type": "code",
   "execution_count": 2,
   "id": "72e13b6c",
   "metadata": {},
   "outputs": [
    {
     "name": "stdout",
     "output_type": "stream",
     "text": [
      "Following is the Breadth-First Search order\n",
      "['a', 'c', 'b', 'f', 'g', 'd', 'e', 'h']\n"
     ]
    }
   ],
   "source": [
    "# Driver Code\n",
    "print(\"Following is the Breadth-First Search order\")\n",
    "print(bfs(graph, 'a'))    # function calling"
   ]
  },
  {
   "cell_type": "markdown",
   "id": "18caaa9b",
   "metadata": {
    "slideshow": {
     "slide_type": "slide"
    }
   },
   "source": [
    "#### Depth first search\n",
    "\n",
    "![image.png](./imgs/Depth-First-Search.gif)"
   ]
  },
  {
   "cell_type": "code",
   "execution_count": 3,
   "id": "d083cf2e",
   "metadata": {},
   "outputs": [],
   "source": [
    "graph = {\n",
    "  1 : [9, 5, 2],\n",
    "  2 : [3],\n",
    "  3 : [4],\n",
    "  5 : [8, 6],\n",
    "  6 : [7],\n",
    "  9 : [10]\n",
    "}\n",
    "\n",
    "def dfs(graph, start):\n",
    "    seen = [] # List for visited nodes.\n",
    "    # ============== Main difference from BFS ===============\n",
    "    frontier = LifoQueue() # Frontier of unvisited nodes as LIFO\n",
    "    # ============== End of main difference from BFS ===============\n",
    "    search_order = []\n",
    "    seen.append(start)\n",
    "    frontier.put(start)\n",
    "    \n",
    "    while not frontier.empty():          # Creating loop to visit each node\n",
    "        m = frontier.get()   # Get the most recent addition to frontier\n",
    "        \n",
    "        search_order.append(m)\n",
    "\n",
    "        for neighbor in graph.get(m, []):\n",
    "            if neighbor not in seen:\n",
    "                seen.append(neighbor)\n",
    "                frontier.put(neighbor)\n",
    "            \n",
    "    return search_order"
   ]
  },
  {
   "cell_type": "code",
   "execution_count": 4,
   "id": "f21cb54b",
   "metadata": {},
   "outputs": [
    {
     "name": "stdout",
     "output_type": "stream",
     "text": [
      "Following is the Depth-First Search path\n",
      "[1, 2, 3, 4, 5, 6, 7, 8, 9, 10]\n"
     ]
    }
   ],
   "source": [
    "# Driver Code\n",
    "print(\"Following is the Depth-First Search path\")\n",
    "print(dfs(graph, 1))    # function calling"
   ]
  },
  {
   "cell_type": "markdown",
   "id": "74ab6cc1",
   "metadata": {
    "slideshow": {
     "slide_type": "slide"
    }
   },
   "source": [
    "### Converting a maze search to a graph search\n",
    "\n",
    "![maze.gif](./imgs/BFS-maze.gif)\n",
    "\n",
    "<https://upload.wikimedia.org/wikipedia/commons/thumb/f/f5/BFS-Algorithm_Search_Way.gif/220px-BFS-Algorithm_Search_Way.gif>"
   ]
  },
  {
   "cell_type": "code",
   "execution_count": 5,
   "id": "475412eb",
   "metadata": {
    "slideshow": {
     "slide_type": "slide"
    }
   },
   "outputs": [
    {
     "name": "stdout",
     "output_type": "stream",
     "text": [
      "[(1, 0), (1, 1), (2, 1), (3, 1), (4, 1), (5, 1), (6, 1), (6, 2), (7, 1), (6, 3), (8, 1), (6, 4), (5, 3), (8, 2), (6, 5), (4, 3), (8, 3), (7, 5), (3, 3), (8, 5), (2, 3), (8, 6), (1, 3), (8, 7), (1, 4), (8, 8), (7, 7), (1, 5), (6, 7), (1, 6), (2, 5), (5, 7), (1, 7), (3, 5), (4, 7), (3, 6), (4, 5), (4, 6), (3, 7)]\n"
     ]
    }
   ],
   "source": [
    "maze_str = \\\n",
    "\"\"\"\n",
    "+++++++++\n",
    "  +     +\n",
    "+ + + +++\n",
    "+ + +   +\n",
    "+ + +   +\n",
    "+ + +++ +\n",
    "+     + +\n",
    "+ +++ + +\n",
    "+   +    \n",
    "+++++++++\n",
    "\"\"\"\n",
    "\n",
    "class Maze:\n",
    "    def __init__(self, maze_str, freepath=' '):\n",
    "        self.maze_lines = [l for l in maze_str.split(\"\\n\")\n",
    "                           if len(l)]\n",
    "        self.FREEPATH = freepath\n",
    "        \n",
    "    def get(self, node, default):\n",
    "        (r, c) = node\n",
    "        m_row = self.maze_lines[r]\n",
    "        nbrs = []\n",
    "        if c-1 >= 0 and m_row[c-1] == self.FREEPATH: \n",
    "            nbrs.append((r, c-1))\n",
    "        if c+1 < len(m_row) and m_row[c+1] == self.FREEPATH: \n",
    "            nbrs.append((r, c+1))\n",
    "        if r-1 >= 0 and self.maze_lines[r-1][c] == self.FREEPATH: \n",
    "            nbrs.append((r-1, c))\n",
    "        if r+1 < len(self.maze_lines) and self.maze_lines[r+1][c] == self.FREEPATH: \n",
    "            nbrs.append((r+1, c))\n",
    "        return nbrs if len(nbrs) else default\n",
    "\n",
    "    def draw_path(self, path, visited='*'):\n",
    "        new_maze_lines = [list(l) for l in self.maze_lines]\n",
    "        for (r, c) in path:\n",
    "            new_maze_lines[r][c] = visited\n",
    "            print('\\n'.join([''.join(l) for l in new_maze_lines]))\n",
    "            print('\\n\\n\\n')\n",
    "\n",
    "maze = Maze(maze_str)\n",
    "print(bfs(maze, (1, 0))) # prints the order of search all the searched nodes"
   ]
  },
  {
   "cell_type": "code",
   "execution_count": 6,
   "id": "d6f699e5",
   "metadata": {
    "slideshow": {
     "slide_type": "slide"
    }
   },
   "outputs": [],
   "source": [
    "def bfs_path(graph, start, goal):\n",
    "    \"\"\"\n",
    "    Returns success and node2parent\n",
    "    \n",
    "    success: True if goal is found otherwise False\n",
    "    node2parent: A dictionary that contains the nearest parent for node \n",
    "    \"\"\"\n",
    "    seen = [] # List for seen nodes.\n",
    "    # Frontier is the boundary between seen and unseen\n",
    "    frontier = Queue() # Frontier of unvisited nodes as FIFO\n",
    "    node2parent = dict() # Keep track of nearest parent for each node (requires node to be hashable)\n",
    "    seen.append(start)\n",
    "    frontier.put(start)\n",
    "\n",
    "    while not frontier.empty():          # Creating loop to visit each node\n",
    "        m = frontier.get() # Get the oldest addition to frontier\n",
    "        if m == goal:\n",
    "            return True, node2parent\n",
    "\n",
    "        for neighbor in graph.get(m, []):\n",
    "            if neighbor not in seen:\n",
    "                seen.append(neighbor)\n",
    "                frontier.put(neighbor)\n",
    "                node2parent[neighbor] = m\n",
    "    return False, []"
   ]
  },
  {
   "cell_type": "code",
   "execution_count": 7,
   "id": "05bf38dc",
   "metadata": {
    "slideshow": {
     "slide_type": "slide"
    }
   },
   "outputs": [
    {
     "name": "stdout",
     "output_type": "stream",
     "text": [
      "+++++++++\n",
      "* +     +\n",
      "+ + + +++\n",
      "+ + +   +\n",
      "+ + +   +\n",
      "+ + +++ +\n",
      "+     + +\n",
      "+ +++ + +\n",
      "+   +    \n",
      "+++++++++\n",
      "\n",
      "\n",
      "\n",
      "\n",
      "+++++++++\n",
      "**+     +\n",
      "+ + + +++\n",
      "+ + +   +\n",
      "+ + +   +\n",
      "+ + +++ +\n",
      "+     + +\n",
      "+ +++ + +\n",
      "+   +    \n",
      "+++++++++\n",
      "\n",
      "\n",
      "\n",
      "\n",
      "+++++++++\n",
      "**+     +\n",
      "+*+ + +++\n",
      "+ + +   +\n",
      "+ + +   +\n",
      "+ + +++ +\n",
      "+     + +\n",
      "+ +++ + +\n",
      "+   +    \n",
      "+++++++++\n",
      "\n",
      "\n",
      "\n",
      "\n",
      "+++++++++\n",
      "**+     +\n",
      "+*+ + +++\n",
      "+*+ +   +\n",
      "+ + +   +\n",
      "+ + +++ +\n",
      "+     + +\n",
      "+ +++ + +\n",
      "+   +    \n",
      "+++++++++\n",
      "\n",
      "\n",
      "\n",
      "\n",
      "+++++++++\n",
      "**+     +\n",
      "+*+ + +++\n",
      "+*+ +   +\n",
      "+*+ +   +\n",
      "+ + +++ +\n",
      "+     + +\n",
      "+ +++ + +\n",
      "+   +    \n",
      "+++++++++\n",
      "\n",
      "\n",
      "\n",
      "\n",
      "+++++++++\n",
      "**+     +\n",
      "+*+ + +++\n",
      "+*+ +   +\n",
      "+*+ +   +\n",
      "+*+ +++ +\n",
      "+     + +\n",
      "+ +++ + +\n",
      "+   +    \n",
      "+++++++++\n",
      "\n",
      "\n",
      "\n",
      "\n",
      "+++++++++\n",
      "**+     +\n",
      "+*+ + +++\n",
      "+*+ +   +\n",
      "+*+ +   +\n",
      "+*+ +++ +\n",
      "+*    + +\n",
      "+ +++ + +\n",
      "+   +    \n",
      "+++++++++\n",
      "\n",
      "\n",
      "\n",
      "\n",
      "+++++++++\n",
      "**+     +\n",
      "+*+ + +++\n",
      "+*+ +   +\n",
      "+*+ +   +\n",
      "+*+ +++ +\n",
      "+**   + +\n",
      "+ +++ + +\n",
      "+   +    \n",
      "+++++++++\n",
      "\n",
      "\n",
      "\n",
      "\n",
      "+++++++++\n",
      "**+     +\n",
      "+*+ + +++\n",
      "+*+ +   +\n",
      "+*+ +   +\n",
      "+*+ +++ +\n",
      "+***  + +\n",
      "+ +++ + +\n",
      "+   +    \n",
      "+++++++++\n",
      "\n",
      "\n",
      "\n",
      "\n",
      "+++++++++\n",
      "**+     +\n",
      "+*+ + +++\n",
      "+*+ +   +\n",
      "+*+ +   +\n",
      "+*+ +++ +\n",
      "+**** + +\n",
      "+ +++ + +\n",
      "+   +    \n",
      "+++++++++\n",
      "\n",
      "\n",
      "\n",
      "\n",
      "+++++++++\n",
      "**+     +\n",
      "+*+ + +++\n",
      "+*+ +   +\n",
      "+*+ +   +\n",
      "+*+ +++ +\n",
      "+*****+ +\n",
      "+ +++ + +\n",
      "+   +    \n",
      "+++++++++\n",
      "\n",
      "\n",
      "\n",
      "\n",
      "+++++++++\n",
      "**+     +\n",
      "+*+ + +++\n",
      "+*+ +   +\n",
      "+*+ +   +\n",
      "+*+ +++ +\n",
      "+*****+ +\n",
      "+ +++*+ +\n",
      "+   +    \n",
      "+++++++++\n",
      "\n",
      "\n",
      "\n",
      "\n",
      "+++++++++\n",
      "**+     +\n",
      "+*+ + +++\n",
      "+*+ +   +\n",
      "+*+ +   +\n",
      "+*+ +++ +\n",
      "+*****+ +\n",
      "+ +++*+ +\n",
      "+   +*   \n",
      "+++++++++\n",
      "\n",
      "\n",
      "\n",
      "\n",
      "+++++++++\n",
      "**+     +\n",
      "+*+ + +++\n",
      "+*+ +   +\n",
      "+*+ +   +\n",
      "+*+ +++ +\n",
      "+*****+ +\n",
      "+ +++*+ +\n",
      "+   +**  \n",
      "+++++++++\n",
      "\n",
      "\n",
      "\n",
      "\n",
      "+++++++++\n",
      "**+     +\n",
      "+*+ + +++\n",
      "+*+ +   +\n",
      "+*+ +   +\n",
      "+*+ +++ +\n",
      "+*****+ +\n",
      "+ +++*+ +\n",
      "+   +*** \n",
      "+++++++++\n",
      "\n",
      "\n",
      "\n",
      "\n"
     ]
    }
   ],
   "source": [
    "def backtrace_path(node2parent, goal):\n",
    "    c = goal\n",
    "    r_path = [c]\n",
    "    parent = node2parent.get(c, None)\n",
    "    while parent is not None:\n",
    "        r_path.append(parent)\n",
    "        c = parent\n",
    "        parent = node2parent.get(c, None)\n",
    "    return reversed(r_path)\n",
    "\n",
    "maze = Maze(maze_str)\n",
    "success, node2parent = bfs_path(maze, (1, 0), (8, 7))\n",
    "path = backtrace_path(node2parent, (8, 7))\n",
    "maze.draw_path(path) # Draws all the searched nodes"
   ]
  },
  {
   "cell_type": "markdown",
   "id": "b5602329",
   "metadata": {
    "slideshow": {
     "slide_type": "slide"
    }
   },
   "source": [
    "#### BFS is a type of forward search\n",
    "\n",
    "![](./imgs/general-forward-search.png)"
   ]
  },
  {
   "cell_type": "markdown",
   "id": "3f2a4ffc",
   "metadata": {
    "slideshow": {
     "slide_type": "slide"
    }
   },
   "source": [
    "#### Dijkstra algorithm"
   ]
  },
  {
   "cell_type": "code",
   "execution_count": 8,
   "id": "1380e729",
   "metadata": {},
   "outputs": [],
   "source": [
    "from queue import PriorityQueue\n",
    "from dataclasses import dataclass, field\n",
    "from typing import Any\n",
    "\n",
    "class PriorityQueue():\n",
    "    def __init__(self):\n",
    "        self.items = []\n",
    "        self.costs = []\n",
    "        \n",
    "    def empty(self):\n",
    "        return not len(self.items)\n",
    "\n",
    "    def get(self):\n",
    "        # very inefficient. Don't do this\n",
    "        return min(zip(self.costs, self.items),\n",
    "                   key=self.costs)\n",
    "\n",
    "    def put(self, cost, item):\n",
    "        # very inefficient. Don't do this\n",
    "        # The best case PriorityQueue.put can be impelented in O(log(n)). This is O(n).\n",
    "        self.costs.append(cost)\n",
    "        self.items.append(item)\n",
    "        \n",
    "    def update_cost(self, item, cost):\n",
    "        idx = self.items.index(item)\n",
    "        self.costs[idx] = cost\n",
    "\n",
    "\n",
    "def dijkstra(graph, start, goal):\n",
    "    \"\"\"\n",
    "    edgecost: cost of traversing each edge\n",
    "    \n",
    "    Returns success and node2parent\n",
    "    \n",
    "    success: True if goal is found otherwise False\n",
    "    node2parent: A dictionary that contains the nearest parent for node \n",
    "    \"\"\"\n",
    "    seen = [] # List for seen nodes.\n",
    "    # Frontier is the boundary between seen and unseen\n",
    "    frontier = PriorityQueue() # Frontier of unvisited nodes as FIFO\n",
    "    node2parent = {start : None} # Keep track of nearest parent for each node (requires node to be hashable)\n",
    "    node2cost_to_arrive = {start: 0} # Keep track of cost to arrive at each node\n",
    "    frontier.put(0, start)\n",
    "    while not frontier.empty():          # Creating loop to visit each node\n",
    "        m_cost_to_arrive, m = frontier.get() # Get the oldest addition to frontier\n",
    "        if m == goal:\n",
    "            node2parent[start] = None\n",
    "            return True, node2parent\n",
    "\n",
    "        for edge_cost, neighbor in graph.nbrs_with_costs(m, []):\n",
    "            old_cost_to_arrive = node2cost_to_arrive.get(neighbor, float(\"inf\"))\n",
    "            new_cost_to_arrive = edge_cost + m_cost_to_arrive\n",
    "            if neighbor not in seen:\n",
    "                seen.append(neighbor)\n",
    "                frontier.put(new_cost_to_arrive, neighbor)\n",
    "                node2parent[neighbor] = m\n",
    "            elif new_cost_to_arrive < old_cost_to_arrive:\n",
    "                node2parent[neighbor] = m\n",
    "                frontier.update_cost(neighbor, new_cost_to_arrive)\n",
    "                \n",
    "    return False, {}"
   ]
  },
  {
   "cell_type": "code",
   "execution_count": 9,
   "id": "8acbb0d3",
   "metadata": {},
   "outputs": [
    {
     "ename": "TypeError",
     "evalue": "'list' object is not callable",
     "output_type": "error",
     "traceback": [
      "\u001b[0;31m---------------------------------------------------------------------------\u001b[0m",
      "\u001b[0;31mTypeError\u001b[0m                                 Traceback (most recent call last)",
      "Cell \u001b[0;32mIn[9], line 8\u001b[0m\n\u001b[1;32m      5\u001b[0m         \u001b[38;5;28;01mreturn\u001b[39;00m \u001b[38;5;28mzip\u001b[39m(itertools\u001b[38;5;241m.\u001b[39mrepeat(\u001b[38;5;241m1\u001b[39m), nbrs)\n\u001b[1;32m      7\u001b[0m maze \u001b[38;5;241m=\u001b[39m MazeD(maze_str)\n\u001b[0;32m----> 8\u001b[0m success, node2parent \u001b[38;5;241m=\u001b[39m \u001b[43mdijkstra\u001b[49m\u001b[43m(\u001b[49m\u001b[43mmaze\u001b[49m\u001b[43m,\u001b[49m\u001b[43m \u001b[49m\u001b[43m(\u001b[49m\u001b[38;5;241;43m1\u001b[39;49m\u001b[43m,\u001b[49m\u001b[43m \u001b[49m\u001b[38;5;241;43m0\u001b[39;49m\u001b[43m)\u001b[49m\u001b[43m,\u001b[49m\u001b[43m \u001b[49m\u001b[43m(\u001b[49m\u001b[38;5;241;43m8\u001b[39;49m\u001b[43m,\u001b[49m\u001b[43m \u001b[49m\u001b[38;5;241;43m7\u001b[39;49m\u001b[43m)\u001b[49m\u001b[43m)\u001b[49m\n\u001b[1;32m      9\u001b[0m \u001b[38;5;28mprint\u001b[39m(success, node2parent)\n\u001b[1;32m     10\u001b[0m \u001b[38;5;28;01mif\u001b[39;00m success:\n",
      "Cell \u001b[0;32mIn[8], line 45\u001b[0m, in \u001b[0;36mdijkstra\u001b[0;34m(graph, start, goal)\u001b[0m\n\u001b[1;32m     43\u001b[0m frontier\u001b[38;5;241m.\u001b[39mput(\u001b[38;5;241m0\u001b[39m, start)\n\u001b[1;32m     44\u001b[0m \u001b[38;5;28;01mwhile\u001b[39;00m \u001b[38;5;129;01mnot\u001b[39;00m frontier\u001b[38;5;241m.\u001b[39mempty():          \u001b[38;5;66;03m# Creating loop to visit each node\u001b[39;00m\n\u001b[0;32m---> 45\u001b[0m     m_cost_to_arrive, m \u001b[38;5;241m=\u001b[39m \u001b[43mfrontier\u001b[49m\u001b[38;5;241;43m.\u001b[39;49m\u001b[43mget\u001b[49m\u001b[43m(\u001b[49m\u001b[43m)\u001b[49m \u001b[38;5;66;03m# Get the oldest addition to frontier\u001b[39;00m\n\u001b[1;32m     46\u001b[0m     \u001b[38;5;28;01mif\u001b[39;00m m \u001b[38;5;241m==\u001b[39m goal:\n\u001b[1;32m     47\u001b[0m         node2parent[start] \u001b[38;5;241m=\u001b[39m \u001b[38;5;28;01mNone\u001b[39;00m\n",
      "Cell \u001b[0;32mIn[8], line 15\u001b[0m, in \u001b[0;36mPriorityQueue.get\u001b[0;34m(self)\u001b[0m\n\u001b[1;32m     13\u001b[0m \u001b[38;5;28;01mdef\u001b[39;00m \u001b[38;5;21mget\u001b[39m(\u001b[38;5;28mself\u001b[39m):\n\u001b[1;32m     14\u001b[0m     \u001b[38;5;66;03m# very inefficient. Don't do this\u001b[39;00m\n\u001b[0;32m---> 15\u001b[0m     \u001b[38;5;28;01mreturn\u001b[39;00m \u001b[38;5;28;43mmin\u001b[39;49m\u001b[43m(\u001b[49m\u001b[38;5;28;43mzip\u001b[39;49m\u001b[43m(\u001b[49m\u001b[38;5;28;43mself\u001b[39;49m\u001b[38;5;241;43m.\u001b[39;49m\u001b[43mcosts\u001b[49m\u001b[43m,\u001b[49m\u001b[43m \u001b[49m\u001b[38;5;28;43mself\u001b[39;49m\u001b[38;5;241;43m.\u001b[39;49m\u001b[43mitems\u001b[49m\u001b[43m)\u001b[49m\u001b[43m,\u001b[49m\n\u001b[1;32m     16\u001b[0m \u001b[43m               \u001b[49m\u001b[43mkey\u001b[49m\u001b[38;5;241;43m=\u001b[39;49m\u001b[38;5;28;43mself\u001b[39;49m\u001b[38;5;241;43m.\u001b[39;49m\u001b[43mcosts\u001b[49m\u001b[43m)\u001b[49m\n",
      "\u001b[0;31mTypeError\u001b[0m: 'list' object is not callable"
     ]
    }
   ],
   "source": [
    "import itertools\n",
    "class MazeD(Maze):\n",
    "    def nbrs_with_costs(self, node, default):\n",
    "        nbrs = self.get(node, default)\n",
    "        return zip(itertools.repeat(1), nbrs)\n",
    "\n",
    "maze = MazeD(maze_str)\n",
    "success, node2parent = dijkstra(maze, (1, 0), (8, 7))\n",
    "print(success, node2parent)\n",
    "if success:\n",
    "    path = backtrace_path(node2parent, (8, 7))\n",
    "    maze.draw_path(path) # Draws all the searched nodes"
   ]
  },
  {
   "cell_type": "code",
   "execution_count": null,
   "id": "d5704b10",
   "metadata": {},
   "outputs": [],
   "source": []
  }
 ],
 "metadata": {
  "celltoolbar": "Slideshow",
  "chalkboard": {
   "src": "./2023-09-06-chalkboard.json"
  },
  "kernelspec": {
   "display_name": "Python 3 (ipykernel)",
   "language": "python",
   "name": "python3"
  },
  "language_info": {
   "codemirror_mode": {
    "name": "ipython",
    "version": 3
   },
   "file_extension": ".py",
   "mimetype": "text/x-python",
   "name": "python",
   "nbconvert_exporter": "python",
   "pygments_lexer": "ipython3",
   "version": "3.11.0"
  },
  "rise": {
   "enable_chalkboard": true
  }
 },
 "nbformat": 4,
 "nbformat_minor": 5
}
