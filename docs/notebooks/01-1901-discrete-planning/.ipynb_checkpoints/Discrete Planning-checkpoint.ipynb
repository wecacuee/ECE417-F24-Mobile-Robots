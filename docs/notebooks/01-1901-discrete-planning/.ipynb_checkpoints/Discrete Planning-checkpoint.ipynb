{
 "cells": [
  {
   "cell_type": "markdown",
   "id": "cec19777",
   "metadata": {
    "slideshow": {
     "slide_type": "slide"
    }
   },
   "source": [
    "# Planning (Chapter 2 from Lavalle book)"
   ]
  },
  {
   "cell_type": "markdown",
   "id": "16f519ec",
   "metadata": {},
   "source": [
    "![](./imgs/maze.png)"
   ]
  },
  {
   "cell_type": "markdown",
   "id": "83961d51",
   "metadata": {
    "slideshow": {
     "slide_type": "slide"
    }
   },
   "source": [
    "### Abstraction of a planning problem"
   ]
  },
  {
   "cell_type": "markdown",
   "id": "5e24ab1b",
   "metadata": {
    "slideshow": {
     "slide_type": "slide"
    }
   },
   "source": [
    "### Graph Search algorithms\n",
    "1. Breadth First Search\n",
    "2. Depth First Search"
   ]
  },
  {
   "cell_type": "markdown",
   "id": "1f01c735",
   "metadata": {
    "slideshow": {
     "slide_type": "slide"
    }
   },
   "source": [
    "##### Breadth first search (BFS)\n",
    "\n",
    "![bfs.png](https://upload.wikimedia.org/wikipedia/commons/4/46/Animated_BFS.gif)"
   ]
  },
  {
   "cell_type": "code",
   "execution_count": 1,
   "id": "6c6916c8",
   "metadata": {
    "slideshow": {
     "slide_type": "slide"
    }
   },
   "outputs": [],
   "source": [
    "from queue import Queue, LifoQueue, PriorityQueue\n",
    "from collections import deque\n",
    "graph = {\n",
    "  'a' : ['b','c'],\n",
    "  'b' : ['d', 'e'],\n",
    "  'c' : ['f', 'g'],\n",
    "  'e' : ['h' ]\n",
    "}\n",
    "\n",
    "def bfs(graph, start):\n",
    "    seen = [] # List for seen nodes (contains both frontier and dead states)\n",
    "    # Frontier is the boundary between seen and unseen (Also called the alive states)\n",
    "    frontier = Queue() # Frontier of unvisited nodes as FIFO\n",
    "    search_order = []\n",
    "    seen.append(start)\n",
    "    frontier.put(start)\n",
    "\n",
    "    while not frontier.empty():          # Creating loop to visit each node\n",
    "        m = frontier.get() # Get the oldest addition to frontier\n",
    "        search_order.append(m)\n",
    "\n",
    "        for neighbor in graph.get(m, []):\n",
    "            if neighbor not in seen:\n",
    "                seen.append(neighbor)\n",
    "                frontier.put(neighbor)\n",
    "    return search_order"
   ]
  },
  {
   "cell_type": "code",
   "execution_count": 2,
   "id": "72e13b6c",
   "metadata": {},
   "outputs": [
    {
     "name": "stdout",
     "output_type": "stream",
     "text": [
      "Following is the Breadth-First Search order\n",
      "['a', 'b', 'c', 'd', 'e', 'f', 'g', 'h']\n"
     ]
    }
   ],
   "source": [
    "# Driver Code\n",
    "print(\"Following is the Breadth-First Search order\")\n",
    "print(bfs(graph, 'a'))    # function calling"
   ]
  },
  {
   "cell_type": "markdown",
   "id": "18caaa9b",
   "metadata": {
    "slideshow": {
     "slide_type": "slide"
    }
   },
   "source": [
    "#### Depth first search\n",
    "\n",
    "![image.png](./imgs/Depth-First-Search.gif)"
   ]
  },
  {
   "cell_type": "code",
   "execution_count": 3,
   "id": "d083cf2e",
   "metadata": {},
   "outputs": [],
   "source": [
    "graph = {\n",
    "  1 : [9, 5, 2],\n",
    "  2 : [3],\n",
    "  3 : [4],\n",
    "  5 : [8, 6],\n",
    "  6 : [7],\n",
    "  9 : [10]\n",
    "}\n",
    "\n",
    "def dfs(graph, start):\n",
    "    seen = [] # List for visited nodes.\n",
    "    # ============== Main difference from BFS ===============\n",
    "    frontier = LifoQueue() # Frontier of unvisited nodes as LIFO\n",
    "    # ============== End of main difference from BFS ===============\n",
    "    search_order = []\n",
    "    seen.append(start)\n",
    "    frontier.put(start)\n",
    "    \n",
    "    while not frontier.empty():          # Creating loop to visit each node\n",
    "        m = frontier.get()   # Get the most recent addition to frontier\n",
    "        \n",
    "        search_order.append(m)\n",
    "\n",
    "        for neighbor in graph.get(m, []):\n",
    "            if neighbor not in seen:\n",
    "                seen.append(neighbor)\n",
    "                frontier.put(neighbor)\n",
    "            \n",
    "    return search_order"
   ]
  },
  {
   "cell_type": "code",
   "execution_count": 4,
   "id": "f21cb54b",
   "metadata": {},
   "outputs": [
    {
     "name": "stdout",
     "output_type": "stream",
     "text": [
      "Following is the Depth-First Search path\n",
      "[1, 2, 3, 4, 5, 6, 7, 8, 9, 10]\n"
     ]
    }
   ],
   "source": [
    "# Driver Code\n",
    "print(\"Following is the Depth-First Search path\")\n",
    "print(dfs(graph, 1))    # function calling"
   ]
  },
  {
   "cell_type": "markdown",
   "id": "74ab6cc1",
   "metadata": {
    "slideshow": {
     "slide_type": "slide"
    }
   },
   "source": [
    "### Converting a maze search to a graph search\n",
    "\n",
    "![maze.gif](./imgs/BFS-maze.gif)\n",
    "\n",
    "<https://upload.wikimedia.org/wikipedia/commons/thumb/f/f5/BFS-Algorithm_Search_Way.gif/220px-BFS-Algorithm_Search_Way.gif>"
   ]
  },
  {
   "cell_type": "code",
   "execution_count": 5,
   "id": "475412eb",
   "metadata": {
    "slideshow": {
     "slide_type": "slide"
    }
   },
   "outputs": [
    {
     "name": "stdout",
     "output_type": "stream",
     "text": [
      "[(1, 0), (1, 1), (2, 1), (3, 1), (4, 1), (5, 1), (6, 1), (6, 2), (7, 1), (6, 3), (8, 1), (6, 4), (5, 3), (8, 2), (6, 5), (4, 3), (8, 3), (7, 5), (3, 3), (8, 5), (2, 3), (8, 6), (1, 3), (8, 7), (1, 4), (7, 7), (1, 5), (6, 7), (1, 6), (2, 5), (5, 7), (1, 7), (3, 5), (4, 7), (3, 6), (4, 5), (4, 6), (3, 7)]\n"
     ]
    }
   ],
   "source": [
    "maze_str = \\\n",
    "\"\"\"\n",
    "+++++++++\n",
    "  +     +\n",
    "+ + + +++\n",
    "+ + +   +\n",
    "+ + +   +\n",
    "+ + +++ +\n",
    "+     + +\n",
    "+ +++ + +\n",
    "+   +   \n",
    "+++++++++\n",
    "\"\"\"\n",
    "\n",
    "class Maze:\n",
    "    def __init__(self, maze_str, freepath=' '):\n",
    "        self.maze_lines = [l for l in maze_str.split(\"\\n\")\n",
    "                           if len(l)]\n",
    "        self.FREEPATH = freepath\n",
    "        \n",
    "    def get(self, node, default):\n",
    "        (r, c) = node\n",
    "        m_row = self.maze_lines[r]\n",
    "        nbrs = []\n",
    "        if c-1 >= 0 and m_row[c-1] == self.FREEPATH: \n",
    "            nbrs.append((r, c-1))\n",
    "        if c+1 < len(m_row) and m_row[c+1] == self.FREEPATH: \n",
    "            nbrs.append((r, c+1))\n",
    "        if r-1 >= 0 and self.maze_lines[r-1][c] == self.FREEPATH: \n",
    "            nbrs.append((r-1, c))\n",
    "        if r+1 < len(self.maze_lines) and self.maze_lines[r+1][c] == self.FREEPATH: \n",
    "            nbrs.append((r+1, c))\n",
    "        return nbrs if len(nbrs) else default\n",
    "\n",
    "    def draw_path(self, path, visited='*'):\n",
    "        new_maze_lines = [list(l) for l in self.maze_lines]\n",
    "        for (r, c) in path:\n",
    "            new_maze_lines[r][c] = visited\n",
    "            print('\\n'.join([''.join(l) for l in new_maze_lines]))\n",
    "            print('\\n\\n\\n')\n",
    "\n",
    "maze = Maze(maze_str)\n",
    "print(bfs(maze, (1, 0))) # prints the order of search all the searched nodes"
   ]
  },
  {
   "cell_type": "code",
   "execution_count": 6,
   "id": "d6f699e5",
   "metadata": {
    "slideshow": {
     "slide_type": "slide"
    }
   },
   "outputs": [],
   "source": [
    "def bfs_path(graph, start, goal):\n",
    "    \"\"\"\n",
    "    Returns success and node2parent\n",
    "    \n",
    "    success: True if goal is found otherwise False\n",
    "    node2parent: A dictionary that contains the nearest parent for node \n",
    "    \"\"\"\n",
    "    seen = [] # List for seen nodes.\n",
    "    # Frontier is the boundary between seen and unseen\n",
    "    frontier = Queue() # Frontier of unvisited nodes as FIFO\n",
    "    node2parent = dict() # Keep track of nearest parent for each node (requires node to be hashable)\n",
    "    seen.append(start)\n",
    "    frontier.put(start)\n",
    "\n",
    "    while not frontier.empty():          # Creating loop to visit each node\n",
    "        m = frontier.get() # Get the oldest addition to frontier\n",
    "        if m == goal:\n",
    "            return True, node2parent\n",
    "\n",
    "        for neighbor in graph.get(m, []):\n",
    "            if neighbor not in seen:\n",
    "                seen.append(neighbor)\n",
    "                frontier.put(neighbor)\n",
    "                node2parent[neighbor] = m\n",
    "    return False, []"
   ]
  },
  {
   "cell_type": "code",
   "execution_count": 7,
   "id": "05bf38dc",
   "metadata": {
    "slideshow": {
     "slide_type": "slide"
    }
   },
   "outputs": [
    {
     "name": "stdout",
     "output_type": "stream",
     "text": [
      "+++++++++\n",
      "* +     +\n",
      "+ + + +++\n",
      "+ + +   +\n",
      "+ + +   +\n",
      "+ + +++ +\n",
      "+     + +\n",
      "+ +++ + +\n",
      "+   +   \n",
      "+++++++++\n",
      "\n",
      "\n",
      "\n",
      "\n",
      "+++++++++\n",
      "**+     +\n",
      "+ + + +++\n",
      "+ + +   +\n",
      "+ + +   +\n",
      "+ + +++ +\n",
      "+     + +\n",
      "+ +++ + +\n",
      "+   +   \n",
      "+++++++++\n",
      "\n",
      "\n",
      "\n",
      "\n",
      "+++++++++\n",
      "**+     +\n",
      "+*+ + +++\n",
      "+ + +   +\n",
      "+ + +   +\n",
      "+ + +++ +\n",
      "+     + +\n",
      "+ +++ + +\n",
      "+   +   \n",
      "+++++++++\n",
      "\n",
      "\n",
      "\n",
      "\n",
      "+++++++++\n",
      "**+     +\n",
      "+*+ + +++\n",
      "+*+ +   +\n",
      "+ + +   +\n",
      "+ + +++ +\n",
      "+     + +\n",
      "+ +++ + +\n",
      "+   +   \n",
      "+++++++++\n",
      "\n",
      "\n",
      "\n",
      "\n",
      "+++++++++\n",
      "**+     +\n",
      "+*+ + +++\n",
      "+*+ +   +\n",
      "+*+ +   +\n",
      "+ + +++ +\n",
      "+     + +\n",
      "+ +++ + +\n",
      "+   +   \n",
      "+++++++++\n",
      "\n",
      "\n",
      "\n",
      "\n",
      "+++++++++\n",
      "**+     +\n",
      "+*+ + +++\n",
      "+*+ +   +\n",
      "+*+ +   +\n",
      "+*+ +++ +\n",
      "+     + +\n",
      "+ +++ + +\n",
      "+   +   \n",
      "+++++++++\n",
      "\n",
      "\n",
      "\n",
      "\n",
      "+++++++++\n",
      "**+     +\n",
      "+*+ + +++\n",
      "+*+ +   +\n",
      "+*+ +   +\n",
      "+*+ +++ +\n",
      "+*    + +\n",
      "+ +++ + +\n",
      "+   +   \n",
      "+++++++++\n",
      "\n",
      "\n",
      "\n",
      "\n",
      "+++++++++\n",
      "**+     +\n",
      "+*+ + +++\n",
      "+*+ +   +\n",
      "+*+ +   +\n",
      "+*+ +++ +\n",
      "+**   + +\n",
      "+ +++ + +\n",
      "+   +   \n",
      "+++++++++\n",
      "\n",
      "\n",
      "\n",
      "\n",
      "+++++++++\n",
      "**+     +\n",
      "+*+ + +++\n",
      "+*+ +   +\n",
      "+*+ +   +\n",
      "+*+ +++ +\n",
      "+***  + +\n",
      "+ +++ + +\n",
      "+   +   \n",
      "+++++++++\n",
      "\n",
      "\n",
      "\n",
      "\n",
      "+++++++++\n",
      "**+     +\n",
      "+*+ + +++\n",
      "+*+ +   +\n",
      "+*+ +   +\n",
      "+*+ +++ +\n",
      "+**** + +\n",
      "+ +++ + +\n",
      "+   +   \n",
      "+++++++++\n",
      "\n",
      "\n",
      "\n",
      "\n",
      "+++++++++\n",
      "**+     +\n",
      "+*+ + +++\n",
      "+*+ +   +\n",
      "+*+ +   +\n",
      "+*+ +++ +\n",
      "+*****+ +\n",
      "+ +++ + +\n",
      "+   +   \n",
      "+++++++++\n",
      "\n",
      "\n",
      "\n",
      "\n",
      "+++++++++\n",
      "**+     +\n",
      "+*+ + +++\n",
      "+*+ +   +\n",
      "+*+ +   +\n",
      "+*+ +++ +\n",
      "+*****+ +\n",
      "+ +++*+ +\n",
      "+   +   \n",
      "+++++++++\n",
      "\n",
      "\n",
      "\n",
      "\n",
      "+++++++++\n",
      "**+     +\n",
      "+*+ + +++\n",
      "+*+ +   +\n",
      "+*+ +   +\n",
      "+*+ +++ +\n",
      "+*****+ +\n",
      "+ +++*+ +\n",
      "+   +*  \n",
      "+++++++++\n",
      "\n",
      "\n",
      "\n",
      "\n",
      "+++++++++\n",
      "**+     +\n",
      "+*+ + +++\n",
      "+*+ +   +\n",
      "+*+ +   +\n",
      "+*+ +++ +\n",
      "+*****+ +\n",
      "+ +++*+ +\n",
      "+   +** \n",
      "+++++++++\n",
      "\n",
      "\n",
      "\n",
      "\n",
      "+++++++++\n",
      "**+     +\n",
      "+*+ + +++\n",
      "+*+ +   +\n",
      "+*+ +   +\n",
      "+*+ +++ +\n",
      "+*****+ +\n",
      "+ +++*+ +\n",
      "+   +***\n",
      "+++++++++\n",
      "\n",
      "\n",
      "\n",
      "\n"
     ]
    }
   ],
   "source": [
    "def backtrace_path(node2parent, goal):\n",
    "    c = goal\n",
    "    r_path = [c]\n",
    "    parent = node2parent.get(c, None)\n",
    "    while parent is not None:\n",
    "        r_path.append(parent)\n",
    "        c = parent\n",
    "        parent = node2parent.get(c, None)\n",
    "    return reversed(r_path)\n",
    "\n",
    "maze = Maze(maze_str)\n",
    "success, node2parent = bfs_path(maze, (1, 0), (8, 7))\n",
    "path = backtrace_path(node2parent, (8, 7))\n",
    "maze.draw_path(path) # Draws all the searched nodes"
   ]
  },
  {
   "cell_type": "markdown",
   "id": "b5602329",
   "metadata": {
    "slideshow": {
     "slide_type": "slide"
    }
   },
   "source": [
    "#### BFS is a type of forward search\n",
    "\n",
    "![](./imgs/general-forward-search.png)"
   ]
  },
  {
   "cell_type": "markdown",
   "id": "3f2a4ffc",
   "metadata": {
    "slideshow": {
     "slide_type": "slide"
    }
   },
   "source": [
    "#### Dijkstra algorithm"
   ]
  },
  {
   "cell_type": "code",
   "execution_count": 24,
   "id": "1380e729",
   "metadata": {},
   "outputs": [],
   "source": [
    "from queue import PriorityQueue\n",
    "from dataclasses import dataclass, field\n",
    "from typing import Any\n",
    "\n",
    "@dataclass(order=True)\n",
    "class CNode:\n",
    "    cost: int\n",
    "    node: Any=field(compare=False)\n",
    "\n",
    "def dijkstra(graph, start, goal):\n",
    "    \"\"\"\n",
    "    edgecost: cost of traversing each edge\n",
    "    \n",
    "    Returns success and node2parent\n",
    "    \n",
    "    success: True if goal is found otherwise False\n",
    "    node2parent: A dictionary that contains the nearest parent for node \n",
    "    \"\"\"\n",
    "    seen = [] # List for seen nodes.\n",
    "    # Frontier is the boundary between seen and unseen\n",
    "    frontier = PriorityQueue() # Frontier of unvisited nodes as FIFO\n",
    "    node2parent = {start : None} # Keep track of nearest parent for each node (requires node to be hashable)\n",
    "    node2cost_to_arrive = {start: 0} # Keep track of cost to arrive at each node\n",
    "    frontier.put(CNode(0, start))\n",
    "    while not frontier.empty():          # Creating loop to visit each node\n",
    "        cnode = frontier.get() # Get the oldest addition to frontier\n",
    "        m_cost_to_arrive = cnode.cost\n",
    "        m = cnode.node\n",
    "        if m == goal:\n",
    "            node2parent[start] = None\n",
    "            return True, node2parent\n",
    "\n",
    "        for edge_cost, neighbor in graph.nbrs_with_costs(m, []):\n",
    "            old_cost_to_arrive = node2cost_to_arrive.get(neighbor, float(\"inf\"))\n",
    "            new_cost_to_arrive = edge_cost + m_cost_to_arrive\n",
    "            if neighbor not in seen:\n",
    "                seen.append(neighbor)\n",
    "                frontier.put(CNode(min(new_cost_to_arrive, old_cost_to_arrive), neighbor))\n",
    "                node2parent[neighbor] = m\n",
    "            elif new_cost_to_arrive < old_cost_to_arrive:\n",
    "                node2parent[neighbor] = m\n",
    "                frontier.put(CNode(min(new_cost_to_arrive, old_cost_to_arrive), neighbor))\n",
    "                \n",
    "    return False, []"
   ]
  },
  {
   "cell_type": "code",
   "execution_count": 26,
   "id": "8acbb0d3",
   "metadata": {},
   "outputs": [
    {
     "name": "stdout",
     "output_type": "stream",
     "text": [
      "True {(1, 0): None, (1, 1): (2, 1), (2, 1): (3, 1), (3, 1): (4, 1), (4, 1): (5, 1), (5, 1): (6, 1), (6, 1): (7, 1), (6, 2): (6, 3), (7, 1): (8, 1), (6, 3): (5, 3), (8, 1): (8, 2), (6, 4): (6, 5), (5, 3): (4, 3), (8, 2): (8, 3), (6, 5): (7, 5), (4, 3): (3, 3), (8, 3): (8, 2), (7, 5): (8, 5), (3, 3): (2, 3), (8, 5): (8, 6), (2, 3): (1, 3), (8, 6): (8, 5), (1, 3): (2, 3), (8, 7): (8, 6), (1, 4): (1, 3)}\n"
     ]
    },
    {
     "ename": "KeyboardInterrupt",
     "evalue": "",
     "output_type": "error",
     "traceback": [
      "\u001b[0;31m---------------------------------------------------------------------------\u001b[0m",
      "\u001b[0;31mKeyboardInterrupt\u001b[0m                         Traceback (most recent call last)",
      "Cell \u001b[0;32mIn[26], line 10\u001b[0m\n\u001b[1;32m      8\u001b[0m success, node2parent \u001b[38;5;241m=\u001b[39m dijkstra(maze, (\u001b[38;5;241m1\u001b[39m, \u001b[38;5;241m0\u001b[39m), (\u001b[38;5;241m8\u001b[39m, \u001b[38;5;241m7\u001b[39m))\n\u001b[1;32m      9\u001b[0m \u001b[38;5;28mprint\u001b[39m(success, node2parent)\n\u001b[0;32m---> 10\u001b[0m path \u001b[38;5;241m=\u001b[39m \u001b[43mbacktrace_path\u001b[49m\u001b[43m(\u001b[49m\u001b[43mnode2parent\u001b[49m\u001b[43m,\u001b[49m\u001b[43m \u001b[49m\u001b[43m(\u001b[49m\u001b[38;5;241;43m8\u001b[39;49m\u001b[43m,\u001b[49m\u001b[43m \u001b[49m\u001b[38;5;241;43m7\u001b[39;49m\u001b[43m)\u001b[49m\u001b[43m)\u001b[49m\n\u001b[1;32m     11\u001b[0m maze\u001b[38;5;241m.\u001b[39mdraw_path(path) \u001b[38;5;66;03m# Draws all the searched nodes\u001b[39;00m\n",
      "Cell \u001b[0;32mIn[7], line 8\u001b[0m, in \u001b[0;36mbacktrace_path\u001b[0;34m(node2parent, goal)\u001b[0m\n\u001b[1;32m      6\u001b[0m     r_path\u001b[38;5;241m.\u001b[39mappend(parent)\n\u001b[1;32m      7\u001b[0m     c \u001b[38;5;241m=\u001b[39m parent\n\u001b[0;32m----> 8\u001b[0m     parent \u001b[38;5;241m=\u001b[39m \u001b[43mnode2parent\u001b[49m\u001b[38;5;241;43m.\u001b[39;49m\u001b[43mget\u001b[49m\u001b[43m(\u001b[49m\u001b[43mc\u001b[49m\u001b[43m,\u001b[49m\u001b[43m \u001b[49m\u001b[38;5;28;43;01mNone\u001b[39;49;00m\u001b[43m)\u001b[49m\n\u001b[1;32m      9\u001b[0m \u001b[38;5;28;01mreturn\u001b[39;00m \u001b[38;5;28mreversed\u001b[39m(r_path)\n",
      "\u001b[0;31mKeyboardInterrupt\u001b[0m: "
     ]
    }
   ],
   "source": [
    "import itertools\n",
    "class MazeD(Maze):\n",
    "    def nbrs_with_costs(self, node, default):\n",
    "        nbrs = self.get(node, default)\n",
    "        return zip(itertools.repeat(1), nbrs)\n",
    "\n",
    "maze = MazeD(maze_str)\n",
    "success, node2parent = dijkstra(maze, (1, 0), (8, 7))\n",
    "print(success, node2parent)\n",
    "path = backtrace_path(node2parent, (8, 7))\n",
    "maze.draw_path(path) # Draws all the searched nodes"
   ]
  },
  {
   "cell_type": "code",
   "execution_count": null,
   "id": "d5704b10",
   "metadata": {},
   "outputs": [],
   "source": []
  }
 ],
 "metadata": {
  "celltoolbar": "Slideshow",
  "kernelspec": {
   "display_name": "Python 3 (ipykernel)",
   "language": "python",
   "name": "python3"
  },
  "language_info": {
   "codemirror_mode": {
    "name": "ipython",
    "version": 3
   },
   "file_extension": ".py",
   "mimetype": "text/x-python",
   "name": "python",
   "nbconvert_exporter": "python",
   "pygments_lexer": "ipython3",
   "version": "3.11.0"
  },
  "rise": {
   "enable_chalkboard": true
  }
 },
 "nbformat": 4,
 "nbformat_minor": 5
}
