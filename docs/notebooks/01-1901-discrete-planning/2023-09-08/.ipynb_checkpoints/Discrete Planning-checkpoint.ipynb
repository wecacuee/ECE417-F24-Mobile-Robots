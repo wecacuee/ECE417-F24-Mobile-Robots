{
 "cells": [
  {
   "cell_type": "markdown",
   "id": "2541b5d3",
   "metadata": {
    "slideshow": {
     "slide_type": "slide"
    }
   },
   "source": [
    "# Planning (Chapter 2 from Lavalle book)"
   ]
  },
  {
   "cell_type": "markdown",
   "id": "cec19777",
   "metadata": {
    "slideshow": {
     "slide_type": "skip"
    }
   },
   "source": [
    "\n",
    "$ % Calligraphic fonts\n",
    "\\newcommand{\\calA}{{\\cal A}}\n",
    "\\newcommand{\\calB}{{\\cal B}}\n",
    "\\newcommand{\\calC}{{\\cal C}}\n",
    "\\newcommand{\\calD}{{\\cal D}}\n",
    "\\newcommand{\\calE}{{\\cal E}}\n",
    "\\newcommand{\\calF}{{\\cal F}}\n",
    "\\newcommand{\\calG}{{\\cal G}}\n",
    "\\newcommand{\\calH}{{\\cal H}}\n",
    "\\newcommand{\\calI}{{\\cal I}}\n",
    "\\newcommand{\\calJ}{{\\cal J}}\n",
    "\\newcommand{\\calK}{{\\cal K}}\n",
    "\\newcommand{\\calL}{{\\cal L}}\n",
    "\\newcommand{\\calM}{{\\cal M}}\n",
    "\\newcommand{\\calN}{{\\cal N}}\n",
    "\\newcommand{\\calO}{{\\cal O}}\n",
    "\\newcommand{\\calP}{{\\cal P}}\n",
    "\\newcommand{\\calQ}{{\\cal Q}}\n",
    "\\newcommand{\\calR}{{\\cal R}}\n",
    "\\newcommand{\\calS}{{\\cal S}}\n",
    "\\newcommand{\\calT}{{\\cal T}}\n",
    "\\newcommand{\\calU}{{\\cal U}}\n",
    "\\newcommand{\\calV}{{\\cal V}}\n",
    "\\newcommand{\\calW}{{\\cal W}}\n",
    "\\newcommand{\\calX}{{\\cal X}}\n",
    "\\newcommand{\\calY}{{\\cal Y}}\n",
    "\\newcommand{\\calZ}{{\\cal Z}}\n",
    "$\n",
    "\n",
    "$% Sets:\n",
    "\\newcommand{\\setA}{\\textsf{A}}\n",
    "\\newcommand{\\setB}{\\textsf{B}}\n",
    "\\newcommand{\\setC}{\\textsf{C}}\n",
    "\\newcommand{\\setD}{\\textsf{D}}\n",
    "\\newcommand{\\setE}{\\textsf{E}}\n",
    "\\newcommand{\\setF}{\\textsf{F}}\n",
    "\\newcommand{\\setG}{\\textsf{G}}\n",
    "\\newcommand{\\setH}{\\textsf{H}}\n",
    "\\newcommand{\\setI}{\\textsf{I}}\n",
    "\\newcommand{\\setJ}{\\textsf{J}}\n",
    "\\newcommand{\\setK}{\\textsf{K}}\n",
    "\\newcommand{\\setL}{\\textsf{L}}\n",
    "\\newcommand{\\setM}{\\textsf{M}}\n",
    "\\newcommand{\\setN}{\\textsf{N}}\n",
    "\\newcommand{\\setO}{\\textsf{O}}\n",
    "\\newcommand{\\setP}{\\textsf{P}}\n",
    "\\newcommand{\\setQ}{\\textsf{Q}}\n",
    "\\newcommand{\\setR}{\\textsf{R}}\n",
    "\\newcommand{\\setS}{\\textsf{S}}\n",
    "\\newcommand{\\setT}{\\textsf{T}}\n",
    "\\newcommand{\\setU}{\\textsf{U}}\n",
    "\\newcommand{\\setV}{\\textsf{V}}\n",
    "\\newcommand{\\setW}{\\textsf{W}}\n",
    "\\newcommand{\\setX}{\\textsf{X}}\n",
    "\\newcommand{\\setY}{\\textsf{Y}}\n",
    "\\newcommand{\\setZ}{\\textsf{Z}}\n",
    "$\n",
    "$% Vectors\n",
    "\\newcommand{\\bfa}{\\mathbf{a}}\n",
    "\\newcommand{\\bfb}{\\mathbf{b}}\n",
    "\\newcommand{\\bfc}{\\mathbf{c}}\n",
    "\\newcommand{\\bfd}{\\mathbf{d}}\n",
    "\\newcommand{\\bfe}{\\mathbf{e}}\n",
    "\\newcommand{\\bff}{\\mathbf{f}}\n",
    "\\newcommand{\\bfg}{\\mathbf{g}}\n",
    "\\newcommand{\\bfh}{\\mathbf{h}}\n",
    "\\newcommand{\\bfi}{\\mathbf{i}}\n",
    "\\newcommand{\\bfj}{\\mathbf{j}}\n",
    "\\newcommand{\\bfk}{\\mathbf{k}}\n",
    "\\newcommand{\\bfl}{\\mathbf{l}}\n",
    "\\newcommand{\\bfm}{\\mathbf{m}}\n",
    "\\newcommand{\\bfn}{\\mathbf{n}}\n",
    "\\newcommand{\\bfo}{\\mathbf{o}}\n",
    "\\newcommand{\\bfp}{\\mathbf{p}}\n",
    "\\newcommand{\\bfq}{\\mathbf{q}}\n",
    "\\newcommand{\\bfr}{\\mathbf{r}}\n",
    "\\newcommand{\\bfs}{\\mathbf{s}}\n",
    "\\newcommand{\\bft}{\\mathbf{t}}\n",
    "\\newcommand{\\bfu}{\\mathbf{u}}\n",
    "\\newcommand{\\bfv}{\\mathbf{v}}\n",
    "\\newcommand{\\bfw}{\\mathbf{w}}\n",
    "\\newcommand{\\bfx}{\\mathbf{x}}\n",
    "\\newcommand{\\bfy}{\\mathbf{y}}\n",
    "\\newcommand{\\bfz}{\\mathbf{z}}\n",
    "$\n",
    "\n",
    "$\\newcommand{\\bfalpha}{\\boldsymbol{\\alpha}}\n",
    "\\newcommand{\\bfbeta}{\\boldsymbol{\\beta}}\n",
    "\\newcommand{\\bfgamma}{\\boldsymbol{\\gamma}}\n",
    "\\newcommand{\\bfdelta}{\\boldsymbol{\\delta}}\n",
    "\\newcommand{\\bfepsilon}{\\boldsymbol{\\epsilon}}\n",
    "\\newcommand{\\bfzeta}{\\boldsymbol{\\zeta}}\n",
    "\\newcommand{\\bfeta}{\\boldsymbol{\\eta}}\n",
    "\\newcommand{\\bftheta}{\\boldsymbol{\\theta}}\n",
    "\\newcommand{\\bfiota}{\\boldsymbol{\\iota}}\n",
    "\\newcommand{\\bfkappa}{\\boldsymbol{\\kappa}}\n",
    "\\newcommand{\\bflambda}{\\boldsymbol{\\lambda}}\n",
    "\\newcommand{\\bfmu}{\\boldsymbol{\\mu}}\n",
    "\\newcommand{\\bfnu}{\\boldsymbol{\\nu}}\n",
    "\\newcommand{\\bfomicron}{\\boldsymbol{\\omicron}}\n",
    "\\newcommand{\\bfpi}{\\boldsymbol{\\pi}}\n",
    "\\newcommand{\\bfrho}{\\boldsymbol{\\rho}}\n",
    "\\newcommand{\\bfsigma}{\\boldsymbol{\\sigma}}\n",
    "\\newcommand{\\bftau}{\\boldsymbol{\\tau}}\n",
    "\\newcommand{\\bfupsilon}{\\boldsymbol{\\upsilon}}\n",
    "\\newcommand{\\bfphi}{\\boldsymbol{\\phi}}\n",
    "\\newcommand{\\bfchi}{\\boldsymbol{\\chi}}\n",
    "\\newcommand{\\bfpsi}{\\boldsymbol{\\psi}}\n",
    "\\newcommand{\\bfomega}{\\boldsymbol{\\omega}}\n",
    "\\newcommand{\\bfxi}{\\boldsymbol{\\xi}}\n",
    "\\newcommand{\\bfell}{\\boldsymbol{\\ell}}\n",
    "$\n",
    "\n",
    "$% Matrices\n",
    "\\newcommand{\\bfA}{\\mathbf{A}}\n",
    "\\newcommand{\\bfB}{\\mathbf{B}}\n",
    "\\newcommand{\\bfC}{\\mathbf{C}}\n",
    "\\newcommand{\\bfD}{\\mathbf{D}}\n",
    "\\newcommand{\\bfE}{\\mathbf{E}}\n",
    "\\newcommand{\\bfF}{\\mathbf{F}}\n",
    "\\newcommand{\\bfG}{\\mathbf{G}}\n",
    "\\newcommand{\\bfH}{\\mathbf{H}}\n",
    "\\newcommand{\\bfI}{\\mathbf{I}}\n",
    "\\newcommand{\\bfJ}{\\mathbf{J}}\n",
    "\\newcommand{\\bfK}{\\mathbf{K}}\n",
    "\\newcommand{\\bfL}{\\mathbf{L}}\n",
    "\\newcommand{\\bfM}{\\mathbf{M}}\n",
    "\\newcommand{\\bfN}{\\mathbf{N}}\n",
    "\\newcommand{\\bfO}{\\mathbf{O}}\n",
    "\\newcommand{\\bfP}{\\mathbf{P}}\n",
    "\\newcommand{\\bfQ}{\\mathbf{Q}}\n",
    "\\newcommand{\\bfR}{\\mathbf{R}}\n",
    "\\newcommand{\\bfS}{\\mathbf{S}}\n",
    "\\newcommand{\\bfT}{\\mathbf{T}}\n",
    "\\newcommand{\\bfU}{\\mathbf{U}}\n",
    "\\newcommand{\\bfV}{\\mathbf{V}}\n",
    "\\newcommand{\\bfW}{\\mathbf{W}}\n",
    "\\newcommand{\\bfX}{\\mathbf{X}}\n",
    "\\newcommand{\\bfY}{\\mathbf{Y}}\n",
    "\\newcommand{\\bfZ}{\\mathbf{Z}}\n",
    "$\n",
    "\n",
    "$\\newcommand{\\bfGamma}{\\boldsymbol{\\Gamma}}\n",
    "\\newcommand{\\bfDelta}{\\boldsymbol{\\Delta}}\n",
    "\\newcommand{\\bfTheta}{\\boldsymbol{\\Theta}}\n",
    "\\newcommand{\\bfLambda}{\\boldsymbol{\\Lambda}}\n",
    "\\newcommand{\\bfPi}{\\boldsymbol{\\Pi}}\n",
    "\\newcommand{\\bfSigma}{\\boldsymbol{\\Sigma}}\n",
    "\\newcommand{\\bfUpsilon}{\\boldsymbol{\\Upsilon}}\n",
    "\\newcommand{\\bfPhi}{\\boldsymbol{\\Phi}}\n",
    "\\newcommand{\\bfPsi}{\\boldsymbol{\\Psi}}\n",
    "\\newcommand{\\bfOmega}{\\boldsymbol{\\Omega}}\n",
    "$\n",
    "\n",
    "$\n",
    "% Blackboard Bold:\n",
    "\\newcommand{\\bbA}{\\mathbb{A}}\n",
    "\\newcommand{\\bbB}{\\mathbb{B}}\n",
    "\\newcommand{\\bbC}{\\mathbb{C}}\n",
    "\\newcommand{\\bbD}{\\mathbb{D}}\n",
    "\\newcommand{\\bbE}{\\mathbb{E}}\n",
    "\\newcommand{\\bbF}{\\mathbb{F}}\n",
    "\\newcommand{\\bbG}{\\mathbb{G}}\n",
    "\\newcommand{\\bbH}{\\mathbb{H}}\n",
    "\\newcommand{\\bbI}{\\mathbb{I}}\n",
    "\\newcommand{\\bbJ}{\\mathbb{J}}\n",
    "\\newcommand{\\bbK}{\\mathbb{K}}\n",
    "\\newcommand{\\bbL}{\\mathbb{L}}\n",
    "\\newcommand{\\bbM}{\\mathbb{M}}\n",
    "\\newcommand{\\bbN}{\\mathbb{N}}\n",
    "\\newcommand{\\bbO}{\\mathbb{O}}\n",
    "\\newcommand{\\bbP}{\\mathbb{P}}\n",
    "\\newcommand{\\bbQ}{\\mathbb{Q}}\n",
    "\\newcommand{\\bbR}{\\mathbb{R}}\n",
    "\\newcommand{\\bbS}{\\mathbb{S}}\n",
    "\\newcommand{\\bbT}{\\mathbb{T}}\n",
    "\\newcommand{\\bbU}{\\mathbb{U}}\n",
    "\\newcommand{\\bbV}{\\mathbb{V}}\n",
    "\\newcommand{\\bbW}{\\mathbb{W}}\n",
    "\\newcommand{\\bbX}{\\mathbb{X}}\n",
    "\\newcommand{\\bbY}{\\mathbb{Y}}\n",
    "\\newcommand{\\bbZ}{\\mathbb{Z}}\n",
    "$"
   ]
  },
  {
   "cell_type": "markdown",
   "id": "16f519ec",
   "metadata": {
    "slideshow": {
     "slide_type": "slide"
    }
   },
   "source": [
    "![](./imgs/maze.png)"
   ]
  },
  {
   "cell_type": "markdown",
   "id": "83961d51",
   "metadata": {
    "slideshow": {
     "slide_type": "slide"
    }
   },
   "source": [
    "### Abstraction of a planning problem\n",
    "\n",
    "\n",
    "1. State space $\\bfs \\in \\calS$. For example, 2D coordinate of a grid $\\bfs = (x, y)$.\n",
    "2. Action space per state $\\bfu \\in \\calU(\\bfs)$. For example, up, down, left right movement can be encoded as $\\calU(\\bfs_t) = \\{ (0, -1), (0, 1), (1, 0), (-1, 0) \\}$.\n",
    "3. State transition function $\\bfs_{t+1} = f(\\bfs_t, \\bfu_t)$. For example, the up-down-left-right action can be combined as addition to get the next state $\\bfs_{t+1} = \\bfs_t + \\bfu_t$.\n",
    "4. Initial State $\\bfs_I \\in \\calS$\n",
    "5. Goal states $\\bfs_G \\subseteq \\calS$"
   ]
  },
  {
   "cell_type": "markdown",
   "id": "4e14d0e1",
   "metadata": {
    "slideshow": {
     "slide_type": "slide"
    }
   },
   "source": [
    "### A Graph\n",
    "\n",
    "A graph $\\calG = \\{ \\calV, \\calE \\}$ is defined by a set of vertices $\\calV$ and a set of edges $\\calE$ such that each edge $e \\in \\calE$ is formed by a pair of start and end vertices $e = (v_s, v_e), v_s \\in \\calV, v_e \\in \\calV$. The first vertex is called the start of the edge $v_s = \\text{start}(e)$ and second vertex is called the end $v_e = \\text{end}(e)$."
   ]
  },
  {
   "cell_type": "markdown",
   "id": "3895e717",
   "metadata": {
    "slideshow": {
     "slide_type": "slide"
    }
   },
   "source": [
    "A discrete planning problem can be converted into a graph by definiting \n",
    "1. Vertices as the state space $\\calV = \\calS$.\n",
    "2. The action space at each state as the edges connected to that vertex/state, $\\calU(\\bfs_t) = \\{ (\\bfs_t, \\bfs_j) \\mid (\\bfs_t, \\bfs_j) \\in \\calE \\}$.\n",
    "3. State transition function is the other end of th edge, \n",
    "$\\bfs_{t+1} = f(\\bfs_t, \\bfu_t) = \\text{end}(\\bfu_t)$,  where $\\bfs_t = \\text{start}(\\bfu_t)$."
   ]
  },
  {
   "cell_type": "markdown",
   "id": "666ceb53",
   "metadata": {
    "slideshow": {
     "slide_type": "slide"
    }
   },
   "source": [
    "### Representations of Graphs\n",
    "(Chapter 23 of Introduction to Algorithms by Carmen et al)\n",
    "\n",
    "##### Undirected graph\n",
    "![](./imgs/undirected-graph-rep.png)"
   ]
  },
  {
   "cell_type": "code",
   "execution_count": 2,
   "id": "cc0e905c",
   "metadata": {
    "slideshow": {
     "slide_type": "slide"
    }
   },
   "outputs": [],
   "source": [
    "# Programmatically you can represent a adjacency list as python lists \n",
    "# Python lists are not linked lists, they are arrays under the hood.\n",
    "G_adjacency_list = {\n",
    "    1 : [2, 5],\n",
    "    2 : [1, 5, 3, 4],\n",
    "    3 : [2, 4],\n",
    "    4 : [2, 5, 3],\n",
    "    5 : [4, 1, 2]\n",
    "}\n",
    "\n",
    "# Prefer to represent a matrix in python either as a list of lists or a numpy array\n",
    "import numpy as np\n",
    "G_adjacency_matrix = np.array([\n",
    "    [0, 1, 0, 0, 1],\n",
    "    [1, 0, 1, 1, 1],\n",
    "    [0, 1, 0, 1, 0],\n",
    "    [0, 1, 1, 0, 1],\n",
    "    [1, 1, 0, 1, 0]\n",
    "])\n",
    "\n",
    "# Edge list is another possible representation\n",
    "G_edge_list = [\n",
    "    (1, 2), (1, 5),\n",
    "    (2, 1), (2, 5), (2, 3), (2, 4),\n",
    "    (3, 2), (3, 4),\n",
    "    (4, 2), (4, 5), (4, 3),\n",
    "    (5, 4), (5, 1), (5, 2)\n",
    "]"
   ]
  },
  {
   "cell_type": "markdown",
   "id": "8cf2ada9",
   "metadata": {},
   "source": [
    "##### Directed graph representation\n",
    "\n",
    "![](./imgs/directed-graph-rep.png)"
   ]
  },
  {
   "cell_type": "code",
   "execution_count": 4,
   "id": "4b88c485",
   "metadata": {},
   "outputs": [],
   "source": [
    "# Programmatically you can represent a adjacency list as python lists \n",
    "# Python lists are not linked lists, they are arrays under the hood.\n",
    "G_adjacency_list = {\n",
    "    1 : [2, 4],\n",
    "    2 : [5],\n",
    "    3 : [6, 5],\n",
    "    4 : [2],\n",
    "    5 : [4],\n",
    "    5 : [6]\n",
    "}\n",
    "\n",
    "# Prefer to represent a matrix in python either as a list of lists or a numpy array\n",
    "import numpy as np\n",
    "G_adjacency_matrix = np.array([\n",
    "    [0, 1, 0, 1, 0, 0],\n",
    "    [0, 0, 0, 0, 1, 0],\n",
    "    [0, 0, 0, 0, 1, 1],\n",
    "    [0, 1, 0, 0, 0, 0],\n",
    "    [0, 0, 0, 1, 0, 0],\n",
    "    [0, 0, 0, 0, 0, 1]\n",
    "])\n",
    "\n",
    "# Edge list is another possible representation\n",
    "G_edge_list = [\n",
    "    (1, 2), (1, 4),\n",
    "    (2, 5),\n",
    "    (3, 6), (3, 5),\n",
    "    (4, 2),\n",
    "    (5, 6)\n",
    "]"
   ]
  },
  {
   "cell_type": "code",
   "execution_count": 5,
   "id": "df96217c",
   "metadata": {},
   "outputs": [
    {
     "name": "stdout",
     "output_type": "stream",
     "text": [
      "None\n",
      "None\n"
     ]
    }
   ],
   "source": [
    "# Exercise 1\n",
    "\n",
    "# Write a function that converts a graph in adjacency list format to adjacency matrix and vice versa\n",
    "def adjacency_list_to_matrix(G_adj_list):\n",
    "    G_adj_mat = None # TODO: Write code to convert to adj_mat\n",
    "    return G_adj_mat\n",
    "\n",
    "def adjacency_matrix_to_list(G_adj_mat):\n",
    "    G_adj_list = None # TODO: Write code to convert to adj_mat\n",
    "    return G_adj_list\n",
    "\n",
    "# Use the above graphs to test\n",
    "print(adjacency_list_to_matrix(G_adjacency_list))\n",
    "print(adjacency_matrix_to_list(G_adjacency_matrix))"
   ]
  },
  {
   "cell_type": "markdown",
   "id": "5e24ab1b",
   "metadata": {
    "slideshow": {
     "slide_type": "slide"
    },
    "tags": []
   },
   "source": [
    "### Graph Search algorithms\n",
    "1. Breadth First Search\n",
    "![bfs.png](./imgs/Animated_BFS.gif)\n",
    "\n",
    "2. Depth First Search\n",
    "\n",
    "![dfs.png](./imgs/Depth-First-Search.gif)"
   ]
  },
  {
   "cell_type": "markdown",
   "id": "1f01c735",
   "metadata": {
    "slideshow": {
     "slide_type": "slide"
    }
   },
   "source": [
    "##### Breadth first search (BFS)\n",
    "\n",
    "![bfs-states](./imgs/bfs-step-by-step.png)"
   ]
  },
  {
   "cell_type": "code",
   "execution_count": 53,
   "id": "6c6916c8",
   "metadata": {
    "slideshow": {
     "slide_type": "slide"
    }
   },
   "outputs": [],
   "source": [
    "from queue import Queue, LifoQueue, PriorityQueue\n",
    "\n",
    "graph = {\n",
    "  's' : ['w', 'r'],\n",
    "  'r' : ['v'],\n",
    "  'w' : ['t', 'x'],\n",
    "  'x' : ['y' ],\n",
    "  't' : ['u'],\n",
    "  'u' : ['y']\n",
    "}\n",
    "\n",
    "def bfs(graph, start, debug=False):\n",
    "    seen = [] # List for seen nodes (contains both frontier and dead states)\n",
    "    # Frontier is the boundary between seen and unseen (Also called the alive states)\n",
    "    frontier = Queue() # Frontier of unvisited nodes as FIFO\n",
    "    node2dist = {start : 0} # Keep track of distances\n",
    "    search_order = []\n",
    "    seen.append(start)\n",
    "    frontier.put(start)\n",
    "    \n",
    "\n",
    "    i = 0 # step number\n",
    "    while not frontier.empty():          # Creating loop to visit each node\n",
    "        if debug: print(\"%d) Q = \" % i, list(frontier.queue), end='; ')\n",
    "        if debug: print(\"dists = \" , [node2dist[n] for n in frontier.queue])\n",
    "        m = frontier.get() # Get the oldest addition to frontier\n",
    "        search_order.append(m)\n",
    "        \n",
    "\n",
    "        for neighbor in graph.get(m, []):\n",
    "            if neighbor not in seen:\n",
    "                seen.append(neighbor)\n",
    "                frontier.put(neighbor)\n",
    "                node2dist[neighbor] = node2dist[m] + 1\n",
    "            else:\n",
    "                node2dist[neighbor] = min(node2dist[neighbor], node2dist[m] + 1)\n",
    "        i += 1\n",
    "    if debug: print(\"%d) Q = \" % i, list(frontier.queue))\n",
    "    return search_order, node2dist"
   ]
  },
  {
   "cell_type": "code",
   "execution_count": 54,
   "id": "72e13b6c",
   "metadata": {
    "slideshow": {
     "slide_type": "slide"
    }
   },
   "outputs": [
    {
     "name": "stdout",
     "output_type": "stream",
     "text": [
      "Following is the Breadth-First Search order\n",
      "0) Q =  ['s']; dists =  [0]\n",
      "1) Q =  ['w', 'r']; dists =  [1, 1]\n",
      "2) Q =  ['r', 't', 'x']; dists =  [1, 2, 2]\n",
      "3) Q =  ['t', 'x', 'v']; dists =  [2, 2, 2]\n",
      "4) Q =  ['x', 'v', 'u']; dists =  [2, 2, 3]\n",
      "5) Q =  ['v', 'u', 'y']; dists =  [2, 3, 3]\n",
      "6) Q =  ['u', 'y']; dists =  [3, 3]\n",
      "7) Q =  ['y']; dists =  [3]\n",
      "8) Q =  []\n",
      "(['s', 'w', 'r', 't', 'x', 'v', 'u', 'y'], {'s': 0, 'w': 1, 'r': 1, 't': 2, 'x': 2, 'v': 2, 'u': 3, 'y': 3})\n"
     ]
    }
   ],
   "source": [
    "print(\"Following is the Breadth-First Search order\")\n",
    "print(bfs(graph, 's', debug=True))    # function calling"
   ]
  },
  {
   "cell_type": "markdown",
   "id": "18caaa9b",
   "metadata": {
    "slideshow": {
     "slide_type": "slide"
    }
   },
   "source": [
    "#### Depth first search\n",
    "\n",
    "![image.png](./imgs/Depth-First-Search.gif)"
   ]
  },
  {
   "cell_type": "markdown",
   "id": "7b28c0dd",
   "metadata": {},
   "source": [
    "![bfs-states](./imgs/bfs-step-by-step.png)"
   ]
  },
  {
   "cell_type": "code",
   "execution_count": 55,
   "id": "d083cf2e",
   "metadata": {},
   "outputs": [],
   "source": [
    "graph = {\n",
    "  's' : ['w', 'r'],\n",
    "  'r' : ['v'],\n",
    "  'w' : ['t', 'x'],\n",
    "  'x' : ['y' ],\n",
    "  't' : ['u'],\n",
    "  'u' : ['y']\n",
    "}\n",
    "\n",
    "def dfs(graph, start, debug=False):\n",
    "    seen = [] # List for seen nodes (contains both frontier and dead states)\n",
    "    # Frontier is the boundary between seen and unseen (Also called the alive states)\n",
    "    frontier = LifoQueue() # Frontier of unvisited nodes as FIFO\n",
    "    node2dist = {start : 0} # Keep track of distances\n",
    "    search_order = []\n",
    "    seen.append(start)\n",
    "    frontier.put(start)\n",
    "    \n",
    "\n",
    "    i = 0 # step number\n",
    "    while not frontier.empty():          # Creating loop to visit each node\n",
    "        if debug: print(\"%d) Q = \" % i, list(frontier.queue), end='; ')\n",
    "        if debug: print(\"dists = \" , [node2dist[n] for n in frontier.queue])\n",
    "        m = frontier.get() # Get the oldest addition to frontier\n",
    "        search_order.append(m)\n",
    "        \n",
    "\n",
    "        for neighbor in graph.get(m, []):\n",
    "            if neighbor not in seen:\n",
    "                seen.append(neighbor)\n",
    "                frontier.put(neighbor)\n",
    "                node2dist[neighbor] = node2dist[m] + 1\n",
    "            else:\n",
    "                node2dist[neighbor] = min(node2dist[neighbor], node2dist[m] + 1)\n",
    "        i += 1\n",
    "    if debug: print(\"%d) Q = \" % i, list(frontier.queue))\n",
    "    return search_order, node2dist"
   ]
  },
  {
   "cell_type": "code",
   "execution_count": 56,
   "id": "f21cb54b",
   "metadata": {},
   "outputs": [
    {
     "name": "stdout",
     "output_type": "stream",
     "text": [
      "Following is the Depth-First Search path\n",
      "0) Q =  ['s']; dists =  [0]\n",
      "1) Q =  ['w', 'r']; dists =  [1, 1]\n",
      "2) Q =  ['w', 'v']; dists =  [1, 2]\n",
      "3) Q =  ['w']; dists =  [1]\n",
      "4) Q =  ['t', 'x']; dists =  [2, 2]\n",
      "5) Q =  ['t', 'y']; dists =  [2, 3]\n",
      "6) Q =  ['t']; dists =  [2]\n",
      "7) Q =  ['u']; dists =  [3]\n",
      "8) Q =  []\n",
      "(['s', 'r', 'v', 'w', 'x', 'y', 't', 'u'], {'s': 0, 'w': 1, 'r': 1, 'v': 2, 't': 2, 'x': 2, 'y': 3, 'u': 3})\n"
     ]
    }
   ],
   "source": [
    "# Driver Code\n",
    "print(\"Following is the Depth-First Search path\")\n",
    "print(dfs(graph, 's', debug=True))    # function calling"
   ]
  },
  {
   "cell_type": "markdown",
   "id": "74ab6cc1",
   "metadata": {
    "slideshow": {
     "slide_type": "slide"
    }
   },
   "source": [
    "### Converting a maze search to a graph search\n"
   ]
  },
  {
   "cell_type": "code",
   "execution_count": 38,
   "id": "e7d3e67e",
   "metadata": {
    "slideshow": {
     "slide_type": "skip"
    }
   },
   "outputs": [],
   "source": [
    "def draw_path(self, path, visited='*'):\n",
    "    new_maze_lines = [list(l) for l in self.maze_lines]\n",
    "    for (r, c) in path:\n",
    "        new_maze_lines[r][c] = visited\n",
    "        print('\\n'.join([''.join(l) for l in new_maze_lines]))\n",
    "        print('\\n\\n\\n')\n",
    "\n",
    "def _init_plots(self):\n",
    "    if self.fig is None:\n",
    "        self.fig, self.ax = plt.subplots()\n",
    "\n",
    "def plot_maze(self):\n",
    "    self._init_plots()\n",
    "    replace = { ' ' : 1, '+': 0}\n",
    "    maze_mat = np.array([[replace[c] for c in line]\n",
    "                          for line in self.maze_lines])\n",
    "    return self.ax.imshow(maze_mat, cmap='gray')\n",
    "\n",
    "def plot_path(self, path):\n",
    "    self.plot_maze()\n",
    "    return [self.ax.text(c, r, '%d' % (i+1))\n",
    "            for i, (r, c) in enumerate(path)]"
   ]
  },
  {
   "cell_type": "code",
   "execution_count": 39,
   "id": "c2ddf03d",
   "metadata": {
    "slideshow": {
     "slide_type": "slide"
    }
   },
   "outputs": [],
   "source": [
    "import matplotlib.pyplot as plt\n",
    "import numpy as np\n",
    "maze_str = \\\n",
    "\"\"\"\n",
    "+++++++++\n",
    "  +     +\n",
    "+ + + +++\n",
    "+ + +   +\n",
    "+ + +   +\n",
    "+ + +++ +\n",
    "+     + +\n",
    "+ +++ + +\n",
    "+   +    \n",
    "+++++++++\n",
    "\"\"\"\n",
    "\n",
    "class Maze:\n",
    "    def __init__(self, maze_str, freepath=' '):\n",
    "        self.maze_lines = [l for l in maze_str.split(\"\\n\")\n",
    "                           if len(l)]\n",
    "        self.FREEPATH = freepath\n",
    "        self.fig = None\n",
    "        \n",
    "    def get(self, node, default):\n",
    "        (r, c) = node\n",
    "        m_row = self.maze_lines[r]\n",
    "        nbrs = []\n",
    "        if c-1 >= 0 and m_row[c-1] == self.FREEPATH: \n",
    "            nbrs.append((r, c-1))\n",
    "        if c+1 < len(m_row) and m_row[c+1] == self.FREEPATH: \n",
    "            nbrs.append((r, c+1))\n",
    "        if r-1 >= 0 and self.maze_lines[r-1][c] == self.FREEPATH: \n",
    "            nbrs.append((r-1, c))\n",
    "        if r+1 < len(self.maze_lines) and self.maze_lines[r+1][c] == self.FREEPATH: \n",
    "            nbrs.append((r+1, c))\n",
    "        return nbrs if len(nbrs) else default\n",
    "    _init_plots = _init_plots\n",
    "    plot_maze = plot_maze\n",
    "    plot_path = plot_path"
   ]
  },
  {
   "cell_type": "code",
   "execution_count": 58,
   "id": "475412eb",
   "metadata": {
    "slideshow": {
     "slide_type": "slide"
    }
   },
   "outputs": [
    {
     "name": "stdout",
     "output_type": "stream",
     "text": [
      "([(1, 0), (1, 1), (2, 1), (3, 1), (4, 1), (5, 1), (6, 1), (6, 2), (7, 1), (6, 3), (8, 1), (6, 4), (5, 3), (8, 2), (6, 5), (4, 3), (8, 3), (7, 5), (3, 3), (8, 5), (2, 3), (8, 6), (1, 3), (8, 7), (1, 4), (8, 8), (7, 7), (1, 5), (6, 7), (1, 6), (2, 5), (5, 7), (1, 7), (3, 5), (4, 7), (3, 6), (4, 5), (4, 6), (3, 7)], {(1, 0): 0, (1, 1): 1, (2, 1): 2, (3, 1): 3, (4, 1): 4, (5, 1): 5, (6, 1): 6, (6, 2): 7, (7, 1): 7, (6, 3): 8, (8, 1): 8, (6, 4): 9, (5, 3): 9, (8, 2): 9, (6, 5): 10, (4, 3): 10, (8, 3): 10, (7, 5): 11, (3, 3): 11, (8, 5): 12, (2, 3): 12, (8, 6): 13, (1, 3): 13, (8, 7): 14, (1, 4): 14, (8, 8): 15, (7, 7): 15, (1, 5): 15, (6, 7): 16, (1, 6): 16, (2, 5): 16, (5, 7): 17, (1, 7): 17, (3, 5): 17, (4, 7): 18, (3, 6): 18, (4, 5): 18, (4, 6): 19, (3, 7): 19})\n"
     ]
    },
    {
     "data": {
      "text/plain": [
       "<matplotlib.image.AxesImage at 0x7f84fc9fe710>"
      ]
     },
     "execution_count": 58,
     "metadata": {},
     "output_type": "execute_result"
    },
    {
     "data": {
      "image/png": "[encoded data removed]",
      "text/plain": [
       "<Figure size 640x480 with 1 Axes>"
      ]
     },
     "metadata": {},
     "output_type": "display_data"
    }
   ],
   "source": [
    "maze = Maze(maze_str)\n",
    "print(bfs(maze, (1, 0))) # prints the order of search all the searched nodes\n",
    "maze.plot_maze()"
   ]
  },
  {
   "cell_type": "code",
   "execution_count": 92,
   "id": "d6f699e5",
   "metadata": {
    "slideshow": {
     "slide_type": "slide"
    }
   },
   "outputs": [],
   "source": [
    "def bfs_path(graph, start, goal):\n",
    "    \"\"\"\n",
    "    Returns success and node2parent\n",
    "    \n",
    "    success: True if goal is found otherwise False\n",
    "    node2parent: A dictionary that contains the nearest parent for node \n",
    "    \"\"\"\n",
    "    seen = [start] # List for seen nodes.\n",
    "    # Frontier is the boundary between seen and unseen\n",
    "    frontier = Queue() # Frontier of unvisited nodes as FIFO\n",
    "    node2parent = dict() # Keep track of nearest parent for each node (requires node to be hashable)\n",
    "    frontier.put(start)\n",
    "\n",
    "    while not frontier.empty():          # Creating loop to visit each node\n",
    "        m = frontier.get() # Get the oldest addition to frontier\n",
    "        if m == goal:\n",
    "            return True, node2parent\n",
    "\n",
    "        for neighbor in graph.get(m, []):\n",
    "            if neighbor not in seen:\n",
    "                seen.append(neighbor)\n",
    "                frontier.put(neighbor)\n",
    "                node2parent[neighbor] = m\n",
    "    return False, []"
   ]
  },
  {
   "cell_type": "code",
   "execution_count": 93,
   "id": "05bf38dc",
   "metadata": {
    "slideshow": {
     "slide_type": "slide"
    }
   },
   "outputs": [
    {
     "data": {
      "image/png": "[encoded data removed]",
      "text/plain": [
       "<Figure size 640x480 with 1 Axes>"
      ]
     },
     "metadata": {},
     "output_type": "display_data"
    }
   ],
   "source": [
    "def backtrace_path(node2parent, start, goal):\n",
    "    c = goal\n",
    "    r_path = [c]\n",
    "    parent = node2parent.get(c, None)\n",
    "    while parent != start:\n",
    "        r_path.append(parent)\n",
    "        c = parent\n",
    "        parent = node2parent.get(c, None)\n",
    "        #print(parent)\n",
    "    r_path.append(start)\n",
    "    return reversed(r_path)\n",
    "\n",
    "maze = Maze(maze_str)\n",
    "start = (1, 0)\n",
    "goal = (8, 8)\n",
    "success, node2parent = bfs_path(maze, (1, 0), (8, 8))\n",
    "path = backtrace_path(node2parent, (1, 0), (8, 8))\n",
    "#print(list(path))\n",
    "maze.plot_path(path) # Draws all the searched nodes\n",
    "plt.show()\n",
    "#node2parent"
   ]
  },
  {
   "cell_type": "markdown",
   "id": "3f2a4ffc",
   "metadata": {
    "slideshow": {
     "slide_type": "slide"
    }
   },
   "source": [
    "#### Dijkstra algorithm"
   ]
  },
  {
   "cell_type": "markdown",
   "id": "47f23862",
   "metadata": {},
   "source": [
    "![dijkstra-step-by-step](./imgs/dijkstra-step-by-step.png)"
   ]
  },
  {
   "cell_type": "code",
   "execution_count": 94,
   "id": "1380e729",
   "metadata": {},
   "outputs": [],
   "source": [
    "from queue import PriorityQueue\n",
    "from dataclasses import dataclass, field\n",
    "from typing import Any\n",
    "\n",
    "\n",
    "@dataclass(order=True)\n",
    "class PItem:\n",
    "    dist: int\n",
    "    node: Any=field(compare=False)\n",
    "        \n",
    "graph = {\n",
    "    's' : [('x', 5), ('u', 10)],\n",
    "    'u' : [('v', 1), ('x', 2)],\n",
    "    'x' : [('u', 3), ('v', 9), ('y', 2)],\n",
    "    'y' : [('v', 6), ('s', 7)],\n",
    "    'v' : [('y', 4)]\n",
    "}\n",
    "\n",
    "\n",
    "def dijkstra(graph, start, goal, debug=False):\n",
    "    \"\"\"\n",
    "    edgecost: cost of traversing each edge\n",
    "    \n",
    "    Returns success and node2parent\n",
    "    \n",
    "    success: True if goal is found otherwise False\n",
    "    node2parent: A dictionary that contains the nearest parent for node \n",
    "    \"\"\"\n",
    "    seen = [start] # List for seen nodes.\n",
    "    # Frontier is the boundary between seen and unseen\n",
    "    frontier = PriorityQueue() # Frontier of unvisited nodes as FIFO\n",
    "    node2parent = {start : None} # Keep track of nearest parent for each node (requires node to be hashable)\n",
    "    node2dist = {start: 0} # Keep track of cost to arrive at each node\n",
    "    frontier.put(PItem(0, start))\n",
    "    i = 0\n",
    "    while not frontier.empty():          # Creating loop to visit each node\n",
    "        dist_m = frontier.get() # Get the closest addition to the frontier\n",
    "        if debug: print(\"%d) Q = \" % i, list(frontier.queue), end='; ')\n",
    "        if debug: print(\"dists = \" , [node2dist[n.node] for n in frontier.queue])\n",
    "        m_dist = dist_m.dist\n",
    "        m = dist_m.node\n",
    "        if goal is not None and m == goal:\n",
    "            return True, node2parent, node2dist\n",
    "\n",
    "        for neighbor, edge_cost in graph.get(m, []):\n",
    "            old_dist = node2dist.get(neighbor, float(\"inf\"))\n",
    "            new_dist = edge_cost + m_dist\n",
    "            if neighbor not in seen:\n",
    "                seen.append(neighbor)\n",
    "                frontier.put(PItem(new_dist, neighbor))\n",
    "                node2parent[neighbor] = m\n",
    "                node2dist[neighbor] = new_dist\n",
    "            elif new_dist < old_dist:\n",
    "                node2parent[neighbor] = m\n",
    "                node2dist[neighbor] = new_dist\n",
    "        i += 1\n",
    "    if goal is not None:\n",
    "        return False, {}, node2dist\n",
    "    else:\n",
    "        return True, node2parent, node2dist"
   ]
  },
  {
   "cell_type": "code",
   "execution_count": 95,
   "id": "8c627ed6",
   "metadata": {},
   "outputs": [
    {
     "name": "stdout",
     "output_type": "stream",
     "text": [
      "True {'s': None, 'x': 's', 'u': 'x', 'v': 'u', 'y': 'x'} {'s': 0, 'x': 5, 'u': 8, 'v': 11, 'y': 7}\n"
     ]
    }
   ],
   "source": [
    "success, node2parent, node2dist = dijkstra(graph, 's', None)\n",
    "print(success, node2parent, node2dist)"
   ]
  },
  {
   "cell_type": "code",
   "execution_count": 98,
   "id": "8acbb0d3",
   "metadata": {},
   "outputs": [
    {
     "name": "stdout",
     "output_type": "stream",
     "text": [
      "True {(1, 0): None, (1, 1): (1, 0), (2, 1): (1, 1), (3, 1): (2, 1), (4, 1): (3, 1), (5, 1): (4, 1), (6, 1): (5, 1), (6, 2): (6, 1), (7, 1): (6, 1), (6, 3): (6, 2), (8, 1): (7, 1), (6, 4): (6, 3), (5, 3): (6, 3), (8, 2): (8, 1), (6, 5): (6, 4), (4, 3): (5, 3), (8, 3): (8, 2), (7, 5): (6, 5), (3, 3): (4, 3), (8, 5): (7, 5), (2, 3): (3, 3), (8, 6): (8, 5), (1, 3): (2, 3), (8, 7): (8, 6), (1, 4): (1, 3), (8, 8): (8, 7), (7, 7): (8, 7), (1, 5): (1, 4)}\n"
     ]
    },
    {
     "data": {
      "image/png": "[encoded data removed]",
      "text/plain": [
       "<Figure size 640x480 with 1 Axes>"
      ]
     },
     "metadata": {},
     "output_type": "display_data"
    }
   ],
   "source": [
    "import itertools\n",
    "class MazeD(Maze):\n",
    "    def get(self, node, default):\n",
    "        nbrs = Maze.get(self, node, default)\n",
    "        return zip(nbrs, itertools.repeat(1))\n",
    "\n",
    "maze = MazeD(maze_str)\n",
    "success, node2parent, node2dist = dijkstra(maze, (1, 0), (8, 8))\n",
    "print(success, node2parent)\n",
    "if success:\n",
    "    path = backtrace_path(node2parent, (1, 0), (8, 8))\n",
    "    maze.plot_path(path) # Draws all the searched nodes"
   ]
  }
 ],
 "metadata": {
  "celltoolbar": "Slideshow",
  "chalkboard": {
   "src": "./2023-09-06-chalkboard.json"
  },
  "kernelspec": {
   "display_name": "Python 3 (ipykernel)",
   "language": "python",
   "name": "python3"
  },
  "language_info": {
   "codemirror_mode": {
    "name": "ipython",
    "version": 3
   },
   "file_extension": ".py",
   "mimetype": "text/x-python",
   "name": "python",
   "nbconvert_exporter": "python",
   "pygments_lexer": "ipython3",
   "version": "3.11.0"
  },
  "rise": {
   "enable_chalkboard": true
  }
 },
 "nbformat": 4,
 "nbformat_minor": 5
}
