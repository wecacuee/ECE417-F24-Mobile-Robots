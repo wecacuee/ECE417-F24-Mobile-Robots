{
 "cells": [
  {
   "cell_type": "markdown",
   "id": "cec19777",
   "metadata": {
    "slideshow": {
     "slide_type": "slide"
    }
   },
   "source": [
    "# Planning (Chapter 2 from Lavalle book)"
   ]
  },
  {
   "cell_type": "markdown",
   "id": "16f519ec",
   "metadata": {},
   "source": [
    "![](./imgs/maze.png)"
   ]
  },
  {
   "cell_type": "markdown",
   "id": "83961d51",
   "metadata": {
    "slideshow": {
     "slide_type": "slide"
    }
   },
   "source": [
    "### Abstraction of a planning problem"
   ]
  },
  {
   "cell_type": "markdown",
   "id": "5e24ab1b",
   "metadata": {
    "slideshow": {
     "slide_type": "slide"
    },
    "tags": []
   },
   "source": [
    "### Graph Search algorithms\n",
    "1. Breadth First Search\n",
    "2. Depth First Search"
   ]
  },
  {
   "cell_type": "markdown",
   "id": "1f01c735",
   "metadata": {
    "slideshow": {
     "slide_type": "slide"
    }
   },
   "source": [
    "##### Breadth first search (BFS)\n",
    "\n",
    "![bfs.png](https://upload.wikimedia.org/wikipedia/commons/4/46/Animated_BFS.gif)"
   ]
  },
  {
   "cell_type": "code",
   "execution_count": 6,
   "id": "6c6916c8",
   "metadata": {
    "slideshow": {
     "slide_type": "slide"
    }
   },
   "outputs": [],
   "source": [
    "from queue import Queue, LifoQueue, PriorityQueue\n",
    "from collections import deque\n",
    "graph = {\n",
    "  'a' : ['c','b'],\n",
    "  'b' : ['d', 'e'],\n",
    "  'c' : ['f', 'g'],\n",
    "  'e' : ['h' ]\n",
    "}\n",
    "\n",
    "def bfs(graph, start):\n",
    "    seen = [] # List for seen nodes (contains both frontier and dead states)\n",
    "    # Frontier is the boundary between seen and unseen (Also called the alive states)\n",
    "    frontier = Queue() # Frontier of unvisited nodes as FIFO\n",
    "    search_order = []\n",
    "    seen.append(start)\n",
    "    frontier.put(start)\n",
    "\n",
    "    while not frontier.empty():          # Creating loop to visit each node\n",
    "        m = frontier.get() # Get the oldest addition to frontier\n",
    "        search_order.append(m)\n",
    "\n",
    "        for neighbor in graph.get(m, []):\n",
    "            if neighbor not in seen:\n",
    "                seen.append(neighbor)\n",
    "                frontier.put(neighbor)\n",
    "    return search_order"
   ]
  },
  {
   "cell_type": "code",
   "execution_count": null,
   "id": "72e13b6c",
   "metadata": {},
   "outputs": [
    {
     "name": "stdout",
     "output_type": "stream",
     "text": [
      "Following is the Breadth-First Search order\n"
     ]
    }
   ],
   "source": [
    "# Driver Code\n",
    "print(\"Following is the Breadth-First Search order\")\n",
    "print(bfs(graph, 'a'))    # function calling"
   ]
  }
 ],
 "metadata": {
  "celltoolbar": "Slideshow",
  "chalkboard": {
   "src": "./2023-09-06-chalkboard.json"
  },
  "kernelspec": {
   "display_name": "Python 3 (ipykernel)",
   "language": "python",
   "name": "python3"
  },
  "language_info": {
   "codemirror_mode": {
    "name": "ipython",
    "version": 3
   },
   "file_extension": ".py",
   "mimetype": "text/x-python",
   "name": "python",
   "nbconvert_exporter": "python",
   "pygments_lexer": "ipython3",
   "version": "3.7.10"
  },
  "rise": {
   "enable_chalkboard": true
  }
 },
 "nbformat": 4,
 "nbformat_minor": 5
}
