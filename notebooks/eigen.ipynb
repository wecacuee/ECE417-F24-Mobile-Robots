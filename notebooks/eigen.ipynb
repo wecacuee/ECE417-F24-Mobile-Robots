{
 "cells": [
  {
   "cell_type": "code",
   "execution_count": 1,
   "id": "54e514ae",
   "metadata": {},
   "outputs": [],
   "source": [
    "#pragma cling add_include_path(\"/usr/include/eigen3\")\n"
   ]
  },
  {
   "cell_type": "code",
   "execution_count": 2,
   "id": "9319cf6e",
   "metadata": {},
   "outputs": [],
   "source": [
    "#include \"Eigen/Dense\"\n",
    "#include <iostream>"
   ]
  },
  {
   "cell_type": "code",
   "execution_count": 9,
   "id": "08e2e7cc",
   "metadata": {},
   "outputs": [
    {
     "name": "stdout",
     "output_type": "stream",
     "text": [
      "1 2 3\n",
      "0 1 0\n",
      "0 0 1\n"
     ]
    }
   ],
   "source": [
    "Eigen::Matrix3d M; \n",
    "M << 1, 2, 3, 0, 1, 0, 0, 0, 1 ;\n",
    "std::cout << M << \"\\n\";"
   ]
  }
 ],
 "metadata": {
  "kernelspec": {
   "display_name": "C++14",
   "language": "C++14",
   "name": "xcpp14"
  },
  "language_info": {
   "codemirror_mode": "text/x-c++src",
   "file_extension": ".cpp",
   "mimetype": "text/x-c++src",
   "name": "c++",
   "version": "14"
  }
 },
 "nbformat": 4,
 "nbformat_minor": 5
}
