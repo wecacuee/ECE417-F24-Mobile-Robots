{
 "cells": [
  {
   "cell_type": "markdown",
   "id": "b60f140f-c461-4bfe-9a8c-1439f3532ca8",
   "metadata": {},
   "source": [
    "## Algorithm to generate 3x3 random rotation matrix\n",
    "\n",
    "https://archive.org/details/isbn_9780124096738/page/117/mode/2up\n",
    "\"Fast Random Rotation matrics\" James Arvo\n"
   ]
  },
  {
   "cell_type": "code",
   "execution_count": 1,
   "id": "54e514ae",
   "metadata": {},
   "outputs": [],
   "source": [
    "#pragma cling add_include_path(\"/usr/include/eigen3\")\n",
    "#define _USE_MATH_DEFINES\n",
    "#include <cmath>"
   ]
  },
  {
   "cell_type": "code",
   "execution_count": 2,
   "id": "9319cf6e",
   "metadata": {},
   "outputs": [],
   "source": [
    "#include \"Eigen/Dense\"\n",
    "#include <iostream>\n",
    "#include <cstdlib>"
   ]
  },
  {
   "cell_type": "code",
   "execution_count": 20,
   "id": "d25b380c",
   "metadata": {},
   "outputs": [
    {
     "name": "stdout",
     "output_type": "stream",
     "text": [
      "0.7708760.7260840.41494\n"
     ]
    }
   ],
   "source": [
    "    double x1 = rand() / double(RAND_MAX);\n",
    "    double x2 = rand() / double(RAND_MAX);\n",
    "    double x3 = rand() / double(RAND_MAX);\n",
    "    double theta = 2*M_PI*x1; // Pick a rotation about the pole (z-axis)\n",
    "    double phi = 2*M_PI*x2;   // Pick a direction to deflect the pole\n",
    "    double z = x3;            // Pick the amount of pole deflection\n",
    "std::cout << x1 << x2 << x3 << \"\\n\";"
   ]
  },
  {
   "cell_type": "code",
   "execution_count": 21,
   "id": "f76f6896",
   "metadata": {},
   "outputs": [
    {
     "name": "stdout",
     "output_type": "stream",
     "text": [
      "-0.0964346\n",
      " -0.636899\n",
      "  0.764892-0.0964346\n",
      " -0.636899\n",
      "  0.7648920.130792 -0.99141        0\n",
      " 0.99141 0.130792        0\n",
      "       0        0        1\n"
     ]
    }
   ],
   "source": [
    "\n",
    "    // Consider a vector for performing reflection\n",
    "    Eigen::Matrix<double, 3, 1> V;\n",
    "    V << cos(phi)*sqrt(z), sin(phi)*sqrt(z), sqrt(1-z);\n",
    "    Eigen::Matrix<double, 3, 1> V2 = V;\n",
    "    // Construct the rotation matrix around the Z-axis\n",
    "    Eigen::Matrix3d Rtheta;\n",
    "    Rtheta << cos(theta), sin(theta), 0,\n",
    "    -sin(theta), cos(theta), 0,\n",
    "    0, 0, 1;\n",
    "std::cout << V << V2 << Rtheta << \"\\n\";"
   ]
  },
  {
   "cell_type": "code",
   "execution_count": 22,
   "id": "94b811d6",
   "metadata": {},
   "outputs": [],
   "source": [
    "\n",
    "    Eigen::Matrix3d I = Eigen::MatrixXd::Identity(3,3);\n",
    "    // Rotate the Z-axis to a random orientation\n",
    "    Eigen::Matrix3d VV = V2 * V.transpose();\n",
    "    Eigen::Matrix3d H = I - 2 * VV;\n",
    "    Eigen::Matrix3d R = -1 * H * Rtheta;"
   ]
  },
  {
   "cell_type": "code",
   "execution_count": 25,
   "id": "02c7ff83-1ef7-4d97-b41d-7da6cedbe241",
   "metadata": {},
   "outputs": [],
   "source": [
    "Eigen::Matrix3d random_rotation() {\n",
    "    double x1 = rand() / double(RAND_MAX);\n",
    "    double x2 = rand() / double(RAND_MAX);\n",
    "    double x3 = rand() / double(RAND_MAX);\n",
    "    double theta = 2*M_PI*x1; // Pick a rotation about the pole (z-axis)\n",
    "    double phi = 2*M_PI*x2;   // Pick a direction to deflect the pole\n",
    "    double z = x3;            // Pick the amount of pole deflection\n",
    "    // Consider a vector for performing reflection\n",
    "    Eigen::Matrix<double, 3, 1> V;\n",
    "    V << cos(phi)*sqrt(z), sin(phi)*sqrt(z), sqrt(1-z);\n",
    "    Eigen::Matrix<double, 3, 1> V2 = V;\n",
    "    // Construct the rotation matrix around the Z-axis\n",
    "    Eigen::Matrix3d Rtheta;\n",
    "    Rtheta << cos(theta), sin(theta), 0,\n",
    "    -sin(theta), cos(theta), 0,\n",
    "    0, 0, 1;\n",
    "    Eigen::Matrix3d I = Eigen::MatrixXd::Identity(3,3);\n",
    "    // Rotate the Z-axis to a random orientation\n",
    "    Eigen::Matrix3d VV = V2 * V.transpose();\n",
    "    auto H = I - 2 * VV;\n",
    "    return - H * Rtheta;\n",
    "}"
   ]
  },
  {
   "cell_type": "code",
   "execution_count": 26,
   "id": "f8868415-9827-4143-b3df-2ec58e37125c",
   "metadata": {},
   "outputs": [
    {
     "name": "stdout",
     "output_type": "stream",
     "text": [
      " -0.694844  -0.665206   0.273298\n",
      "-0.0440798   0.418704   0.907052\n",
      " -0.717808   0.618213  -0.320256\n"
     ]
    }
   ],
   "source": [
    "std::cout << random_rotation() << \"\\n\";"
   ]
  }
 ],
 "metadata": {
  "kernelspec": {
   "display_name": "C++14",
   "language": "C++14",
   "name": "xcpp14"
  },
  "language_info": {
   "codemirror_mode": "text/x-c++src",
   "file_extension": ".cpp",
   "mimetype": "text/x-c++src",
   "name": "c++",
   "version": "14"
  }
 },
 "nbformat": 4,
 "nbformat_minor": 5
}
